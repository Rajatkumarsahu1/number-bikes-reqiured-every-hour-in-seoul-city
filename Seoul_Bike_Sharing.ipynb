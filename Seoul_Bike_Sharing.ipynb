{
 "cells": [
  {
   "cell_type": "code",
   "execution_count": 1,
   "metadata": {
    "colab": {
     "base_uri": "https://localhost:8080/",
     "height": 72
    },
    "colab_type": "code",
    "id": "79Z0jpeadkXL",
    "outputId": "6e2c2ce6-63e7-4bd4-b205-1e2a0d377632"
   },
   "outputs": [],
   "source": [
    "import numpy as np\n",
    "import pandas as pd\n",
    "import matplotlib.pyplot as plt\n",
    "import seaborn as sns"
   ]
  },
  {
   "cell_type": "code",
   "execution_count": 2,
   "metadata": {},
   "outputs": [],
   "source": [
    "%matplotlib inline "
   ]
  },
  {
   "cell_type": "code",
   "execution_count": 3,
   "metadata": {
    "colab": {},
    "colab_type": "code",
    "id": "53zSPoVZek_3"
   },
   "outputs": [],
   "source": [
    "data = pd.read_csv('SeoulBikeData.csv',engine='python')"
   ]
  },
  {
   "cell_type": "code",
   "execution_count": 4,
   "metadata": {
    "colab": {
     "base_uri": "https://localhost:8080/",
     "height": 339
    },
    "colab_type": "code",
    "id": "6Jpg-NF_e602",
    "outputId": "f1b4286a-65f1-4896-9f56-6a08913330b9"
   },
   "outputs": [
    {
     "data": {
      "text/html": [
       "<div>\n",
       "<style scoped>\n",
       "    .dataframe tbody tr th:only-of-type {\n",
       "        vertical-align: middle;\n",
       "    }\n",
       "\n",
       "    .dataframe tbody tr th {\n",
       "        vertical-align: top;\n",
       "    }\n",
       "\n",
       "    .dataframe thead th {\n",
       "        text-align: right;\n",
       "    }\n",
       "</style>\n",
       "<table border=\"1\" class=\"dataframe\">\n",
       "  <thead>\n",
       "    <tr style=\"text-align: right;\">\n",
       "      <th></th>\n",
       "      <th>Date</th>\n",
       "      <th>Rented Bike Count</th>\n",
       "      <th>Hour</th>\n",
       "      <th>Temperature(°C)</th>\n",
       "      <th>Humidity(%)</th>\n",
       "      <th>Wind speed (m/s)</th>\n",
       "      <th>Visibility (10m)</th>\n",
       "      <th>Dew point temperature(°C)</th>\n",
       "      <th>Solar Radiation (MJ/m2)</th>\n",
       "      <th>Rainfall(mm)</th>\n",
       "      <th>Snowfall (cm)</th>\n",
       "      <th>Seasons</th>\n",
       "      <th>Holiday</th>\n",
       "      <th>Functioning Day</th>\n",
       "    </tr>\n",
       "  </thead>\n",
       "  <tbody>\n",
       "    <tr>\n",
       "      <td>0</td>\n",
       "      <td>12/1/2017</td>\n",
       "      <td>254</td>\n",
       "      <td>0</td>\n",
       "      <td>-5.2</td>\n",
       "      <td>37</td>\n",
       "      <td>2.2</td>\n",
       "      <td>2000</td>\n",
       "      <td>-17.6</td>\n",
       "      <td>0.00</td>\n",
       "      <td>0.0</td>\n",
       "      <td>0.0</td>\n",
       "      <td>Winter</td>\n",
       "      <td>No Holiday</td>\n",
       "      <td>Yes</td>\n",
       "    </tr>\n",
       "    <tr>\n",
       "      <td>1</td>\n",
       "      <td>12/1/2017</td>\n",
       "      <td>204</td>\n",
       "      <td>1</td>\n",
       "      <td>-5.5</td>\n",
       "      <td>38</td>\n",
       "      <td>0.8</td>\n",
       "      <td>2000</td>\n",
       "      <td>-17.6</td>\n",
       "      <td>0.00</td>\n",
       "      <td>0.0</td>\n",
       "      <td>0.0</td>\n",
       "      <td>Winter</td>\n",
       "      <td>No Holiday</td>\n",
       "      <td>Yes</td>\n",
       "    </tr>\n",
       "    <tr>\n",
       "      <td>2</td>\n",
       "      <td>12/1/2017</td>\n",
       "      <td>173</td>\n",
       "      <td>2</td>\n",
       "      <td>-6.0</td>\n",
       "      <td>39</td>\n",
       "      <td>1.0</td>\n",
       "      <td>2000</td>\n",
       "      <td>-17.7</td>\n",
       "      <td>0.00</td>\n",
       "      <td>0.0</td>\n",
       "      <td>0.0</td>\n",
       "      <td>Winter</td>\n",
       "      <td>No Holiday</td>\n",
       "      <td>Yes</td>\n",
       "    </tr>\n",
       "    <tr>\n",
       "      <td>3</td>\n",
       "      <td>12/1/2017</td>\n",
       "      <td>107</td>\n",
       "      <td>3</td>\n",
       "      <td>-6.2</td>\n",
       "      <td>40</td>\n",
       "      <td>0.9</td>\n",
       "      <td>2000</td>\n",
       "      <td>-17.6</td>\n",
       "      <td>0.00</td>\n",
       "      <td>0.0</td>\n",
       "      <td>0.0</td>\n",
       "      <td>Winter</td>\n",
       "      <td>No Holiday</td>\n",
       "      <td>Yes</td>\n",
       "    </tr>\n",
       "    <tr>\n",
       "      <td>4</td>\n",
       "      <td>12/1/2017</td>\n",
       "      <td>78</td>\n",
       "      <td>4</td>\n",
       "      <td>-6.0</td>\n",
       "      <td>36</td>\n",
       "      <td>2.3</td>\n",
       "      <td>2000</td>\n",
       "      <td>-18.6</td>\n",
       "      <td>0.00</td>\n",
       "      <td>0.0</td>\n",
       "      <td>0.0</td>\n",
       "      <td>Winter</td>\n",
       "      <td>No Holiday</td>\n",
       "      <td>Yes</td>\n",
       "    </tr>\n",
       "    <tr>\n",
       "      <td>5</td>\n",
       "      <td>12/1/2017</td>\n",
       "      <td>100</td>\n",
       "      <td>5</td>\n",
       "      <td>-6.4</td>\n",
       "      <td>37</td>\n",
       "      <td>1.5</td>\n",
       "      <td>2000</td>\n",
       "      <td>-18.7</td>\n",
       "      <td>0.00</td>\n",
       "      <td>0.0</td>\n",
       "      <td>0.0</td>\n",
       "      <td>Winter</td>\n",
       "      <td>No Holiday</td>\n",
       "      <td>Yes</td>\n",
       "    </tr>\n",
       "    <tr>\n",
       "      <td>6</td>\n",
       "      <td>12/1/2017</td>\n",
       "      <td>181</td>\n",
       "      <td>6</td>\n",
       "      <td>-6.6</td>\n",
       "      <td>35</td>\n",
       "      <td>1.3</td>\n",
       "      <td>2000</td>\n",
       "      <td>-19.5</td>\n",
       "      <td>0.00</td>\n",
       "      <td>0.0</td>\n",
       "      <td>0.0</td>\n",
       "      <td>Winter</td>\n",
       "      <td>No Holiday</td>\n",
       "      <td>Yes</td>\n",
       "    </tr>\n",
       "    <tr>\n",
       "      <td>7</td>\n",
       "      <td>12/1/2017</td>\n",
       "      <td>460</td>\n",
       "      <td>7</td>\n",
       "      <td>-7.4</td>\n",
       "      <td>38</td>\n",
       "      <td>0.9</td>\n",
       "      <td>2000</td>\n",
       "      <td>-19.3</td>\n",
       "      <td>0.00</td>\n",
       "      <td>0.0</td>\n",
       "      <td>0.0</td>\n",
       "      <td>Winter</td>\n",
       "      <td>No Holiday</td>\n",
       "      <td>Yes</td>\n",
       "    </tr>\n",
       "    <tr>\n",
       "      <td>8</td>\n",
       "      <td>12/1/2017</td>\n",
       "      <td>930</td>\n",
       "      <td>8</td>\n",
       "      <td>-7.6</td>\n",
       "      <td>37</td>\n",
       "      <td>1.1</td>\n",
       "      <td>2000</td>\n",
       "      <td>-19.8</td>\n",
       "      <td>0.01</td>\n",
       "      <td>0.0</td>\n",
       "      <td>0.0</td>\n",
       "      <td>Winter</td>\n",
       "      <td>No Holiday</td>\n",
       "      <td>Yes</td>\n",
       "    </tr>\n",
       "    <tr>\n",
       "      <td>9</td>\n",
       "      <td>12/1/2017</td>\n",
       "      <td>490</td>\n",
       "      <td>9</td>\n",
       "      <td>-6.5</td>\n",
       "      <td>27</td>\n",
       "      <td>0.5</td>\n",
       "      <td>1928</td>\n",
       "      <td>-22.4</td>\n",
       "      <td>0.23</td>\n",
       "      <td>0.0</td>\n",
       "      <td>0.0</td>\n",
       "      <td>Winter</td>\n",
       "      <td>No Holiday</td>\n",
       "      <td>Yes</td>\n",
       "    </tr>\n",
       "    <tr>\n",
       "      <td>10</td>\n",
       "      <td>12/1/2017</td>\n",
       "      <td>339</td>\n",
       "      <td>10</td>\n",
       "      <td>-3.5</td>\n",
       "      <td>24</td>\n",
       "      <td>1.2</td>\n",
       "      <td>1996</td>\n",
       "      <td>-21.2</td>\n",
       "      <td>0.65</td>\n",
       "      <td>0.0</td>\n",
       "      <td>0.0</td>\n",
       "      <td>Winter</td>\n",
       "      <td>No Holiday</td>\n",
       "      <td>Yes</td>\n",
       "    </tr>\n",
       "    <tr>\n",
       "      <td>11</td>\n",
       "      <td>12/1/2017</td>\n",
       "      <td>360</td>\n",
       "      <td>11</td>\n",
       "      <td>-0.5</td>\n",
       "      <td>21</td>\n",
       "      <td>1.3</td>\n",
       "      <td>1936</td>\n",
       "      <td>-20.2</td>\n",
       "      <td>0.94</td>\n",
       "      <td>0.0</td>\n",
       "      <td>0.0</td>\n",
       "      <td>Winter</td>\n",
       "      <td>No Holiday</td>\n",
       "      <td>Yes</td>\n",
       "    </tr>\n",
       "    <tr>\n",
       "      <td>12</td>\n",
       "      <td>12/1/2017</td>\n",
       "      <td>449</td>\n",
       "      <td>12</td>\n",
       "      <td>1.7</td>\n",
       "      <td>23</td>\n",
       "      <td>1.4</td>\n",
       "      <td>2000</td>\n",
       "      <td>-17.2</td>\n",
       "      <td>1.11</td>\n",
       "      <td>0.0</td>\n",
       "      <td>0.0</td>\n",
       "      <td>Winter</td>\n",
       "      <td>No Holiday</td>\n",
       "      <td>Yes</td>\n",
       "    </tr>\n",
       "    <tr>\n",
       "      <td>13</td>\n",
       "      <td>12/1/2017</td>\n",
       "      <td>451</td>\n",
       "      <td>13</td>\n",
       "      <td>2.4</td>\n",
       "      <td>25</td>\n",
       "      <td>1.6</td>\n",
       "      <td>2000</td>\n",
       "      <td>-15.6</td>\n",
       "      <td>1.16</td>\n",
       "      <td>0.0</td>\n",
       "      <td>0.0</td>\n",
       "      <td>Winter</td>\n",
       "      <td>No Holiday</td>\n",
       "      <td>Yes</td>\n",
       "    </tr>\n",
       "    <tr>\n",
       "      <td>14</td>\n",
       "      <td>12/1/2017</td>\n",
       "      <td>447</td>\n",
       "      <td>14</td>\n",
       "      <td>3.0</td>\n",
       "      <td>26</td>\n",
       "      <td>2.0</td>\n",
       "      <td>2000</td>\n",
       "      <td>-14.6</td>\n",
       "      <td>1.01</td>\n",
       "      <td>0.0</td>\n",
       "      <td>0.0</td>\n",
       "      <td>Winter</td>\n",
       "      <td>No Holiday</td>\n",
       "      <td>Yes</td>\n",
       "    </tr>\n",
       "    <tr>\n",
       "      <td>15</td>\n",
       "      <td>12/1/2017</td>\n",
       "      <td>463</td>\n",
       "      <td>15</td>\n",
       "      <td>2.1</td>\n",
       "      <td>36</td>\n",
       "      <td>3.2</td>\n",
       "      <td>2000</td>\n",
       "      <td>-11.4</td>\n",
       "      <td>0.54</td>\n",
       "      <td>0.0</td>\n",
       "      <td>0.0</td>\n",
       "      <td>Winter</td>\n",
       "      <td>No Holiday</td>\n",
       "      <td>Yes</td>\n",
       "    </tr>\n",
       "    <tr>\n",
       "      <td>16</td>\n",
       "      <td>12/1/2017</td>\n",
       "      <td>484</td>\n",
       "      <td>16</td>\n",
       "      <td>1.2</td>\n",
       "      <td>54</td>\n",
       "      <td>4.2</td>\n",
       "      <td>793</td>\n",
       "      <td>-7.0</td>\n",
       "      <td>0.24</td>\n",
       "      <td>0.0</td>\n",
       "      <td>0.0</td>\n",
       "      <td>Winter</td>\n",
       "      <td>No Holiday</td>\n",
       "      <td>Yes</td>\n",
       "    </tr>\n",
       "    <tr>\n",
       "      <td>17</td>\n",
       "      <td>12/1/2017</td>\n",
       "      <td>555</td>\n",
       "      <td>17</td>\n",
       "      <td>0.8</td>\n",
       "      <td>58</td>\n",
       "      <td>1.6</td>\n",
       "      <td>2000</td>\n",
       "      <td>-6.5</td>\n",
       "      <td>0.08</td>\n",
       "      <td>0.0</td>\n",
       "      <td>0.0</td>\n",
       "      <td>Winter</td>\n",
       "      <td>No Holiday</td>\n",
       "      <td>Yes</td>\n",
       "    </tr>\n",
       "    <tr>\n",
       "      <td>18</td>\n",
       "      <td>12/1/2017</td>\n",
       "      <td>862</td>\n",
       "      <td>18</td>\n",
       "      <td>0.6</td>\n",
       "      <td>66</td>\n",
       "      <td>1.4</td>\n",
       "      <td>2000</td>\n",
       "      <td>-5.0</td>\n",
       "      <td>0.00</td>\n",
       "      <td>0.0</td>\n",
       "      <td>0.0</td>\n",
       "      <td>Winter</td>\n",
       "      <td>No Holiday</td>\n",
       "      <td>Yes</td>\n",
       "    </tr>\n",
       "    <tr>\n",
       "      <td>19</td>\n",
       "      <td>12/1/2017</td>\n",
       "      <td>600</td>\n",
       "      <td>19</td>\n",
       "      <td>0.0</td>\n",
       "      <td>77</td>\n",
       "      <td>1.7</td>\n",
       "      <td>2000</td>\n",
       "      <td>-3.5</td>\n",
       "      <td>0.00</td>\n",
       "      <td>0.0</td>\n",
       "      <td>0.0</td>\n",
       "      <td>Winter</td>\n",
       "      <td>No Holiday</td>\n",
       "      <td>Yes</td>\n",
       "    </tr>\n",
       "    <tr>\n",
       "      <td>20</td>\n",
       "      <td>12/1/2017</td>\n",
       "      <td>426</td>\n",
       "      <td>20</td>\n",
       "      <td>-0.3</td>\n",
       "      <td>79</td>\n",
       "      <td>1.5</td>\n",
       "      <td>1913</td>\n",
       "      <td>-3.5</td>\n",
       "      <td>0.00</td>\n",
       "      <td>0.0</td>\n",
       "      <td>0.0</td>\n",
       "      <td>Winter</td>\n",
       "      <td>No Holiday</td>\n",
       "      <td>Yes</td>\n",
       "    </tr>\n",
       "    <tr>\n",
       "      <td>21</td>\n",
       "      <td>12/1/2017</td>\n",
       "      <td>405</td>\n",
       "      <td>21</td>\n",
       "      <td>-0.8</td>\n",
       "      <td>81</td>\n",
       "      <td>0.8</td>\n",
       "      <td>1687</td>\n",
       "      <td>-3.6</td>\n",
       "      <td>0.00</td>\n",
       "      <td>0.0</td>\n",
       "      <td>0.0</td>\n",
       "      <td>Winter</td>\n",
       "      <td>No Holiday</td>\n",
       "      <td>Yes</td>\n",
       "    </tr>\n",
       "    <tr>\n",
       "      <td>22</td>\n",
       "      <td>12/1/2017</td>\n",
       "      <td>398</td>\n",
       "      <td>22</td>\n",
       "      <td>-0.9</td>\n",
       "      <td>83</td>\n",
       "      <td>1.5</td>\n",
       "      <td>1380</td>\n",
       "      <td>-3.4</td>\n",
       "      <td>0.00</td>\n",
       "      <td>0.0</td>\n",
       "      <td>0.0</td>\n",
       "      <td>Winter</td>\n",
       "      <td>No Holiday</td>\n",
       "      <td>Yes</td>\n",
       "    </tr>\n",
       "    <tr>\n",
       "      <td>23</td>\n",
       "      <td>12/1/2017</td>\n",
       "      <td>323</td>\n",
       "      <td>23</td>\n",
       "      <td>-1.3</td>\n",
       "      <td>84</td>\n",
       "      <td>1.0</td>\n",
       "      <td>1265</td>\n",
       "      <td>-3.6</td>\n",
       "      <td>0.00</td>\n",
       "      <td>0.0</td>\n",
       "      <td>0.0</td>\n",
       "      <td>Winter</td>\n",
       "      <td>No Holiday</td>\n",
       "      <td>Yes</td>\n",
       "    </tr>\n",
       "    <tr>\n",
       "      <td>24</td>\n",
       "      <td>12/2/2017</td>\n",
       "      <td>328</td>\n",
       "      <td>0</td>\n",
       "      <td>-1.8</td>\n",
       "      <td>87</td>\n",
       "      <td>1.1</td>\n",
       "      <td>994</td>\n",
       "      <td>-3.6</td>\n",
       "      <td>0.00</td>\n",
       "      <td>0.0</td>\n",
       "      <td>0.0</td>\n",
       "      <td>Winter</td>\n",
       "      <td>No Holiday</td>\n",
       "      <td>Yes</td>\n",
       "    </tr>\n",
       "  </tbody>\n",
       "</table>\n",
       "</div>"
      ],
      "text/plain": [
       "         Date  Rented Bike Count  Hour  Temperature(°C)  Humidity(%)  \\\n",
       "0   12/1/2017                254     0             -5.2           37   \n",
       "1   12/1/2017                204     1             -5.5           38   \n",
       "2   12/1/2017                173     2             -6.0           39   \n",
       "3   12/1/2017                107     3             -6.2           40   \n",
       "4   12/1/2017                 78     4             -6.0           36   \n",
       "5   12/1/2017                100     5             -6.4           37   \n",
       "6   12/1/2017                181     6             -6.6           35   \n",
       "7   12/1/2017                460     7             -7.4           38   \n",
       "8   12/1/2017                930     8             -7.6           37   \n",
       "9   12/1/2017                490     9             -6.5           27   \n",
       "10  12/1/2017                339    10             -3.5           24   \n",
       "11  12/1/2017                360    11             -0.5           21   \n",
       "12  12/1/2017                449    12              1.7           23   \n",
       "13  12/1/2017                451    13              2.4           25   \n",
       "14  12/1/2017                447    14              3.0           26   \n",
       "15  12/1/2017                463    15              2.1           36   \n",
       "16  12/1/2017                484    16              1.2           54   \n",
       "17  12/1/2017                555    17              0.8           58   \n",
       "18  12/1/2017                862    18              0.6           66   \n",
       "19  12/1/2017                600    19              0.0           77   \n",
       "20  12/1/2017                426    20             -0.3           79   \n",
       "21  12/1/2017                405    21             -0.8           81   \n",
       "22  12/1/2017                398    22             -0.9           83   \n",
       "23  12/1/2017                323    23             -1.3           84   \n",
       "24  12/2/2017                328     0             -1.8           87   \n",
       "\n",
       "    Wind speed (m/s)  Visibility (10m)  Dew point temperature(°C)  \\\n",
       "0                2.2              2000                      -17.6   \n",
       "1                0.8              2000                      -17.6   \n",
       "2                1.0              2000                      -17.7   \n",
       "3                0.9              2000                      -17.6   \n",
       "4                2.3              2000                      -18.6   \n",
       "5                1.5              2000                      -18.7   \n",
       "6                1.3              2000                      -19.5   \n",
       "7                0.9              2000                      -19.3   \n",
       "8                1.1              2000                      -19.8   \n",
       "9                0.5              1928                      -22.4   \n",
       "10               1.2              1996                      -21.2   \n",
       "11               1.3              1936                      -20.2   \n",
       "12               1.4              2000                      -17.2   \n",
       "13               1.6              2000                      -15.6   \n",
       "14               2.0              2000                      -14.6   \n",
       "15               3.2              2000                      -11.4   \n",
       "16               4.2               793                       -7.0   \n",
       "17               1.6              2000                       -6.5   \n",
       "18               1.4              2000                       -5.0   \n",
       "19               1.7              2000                       -3.5   \n",
       "20               1.5              1913                       -3.5   \n",
       "21               0.8              1687                       -3.6   \n",
       "22               1.5              1380                       -3.4   \n",
       "23               1.0              1265                       -3.6   \n",
       "24               1.1               994                       -3.6   \n",
       "\n",
       "    Solar Radiation (MJ/m2)  Rainfall(mm)  Snowfall (cm) Seasons     Holiday  \\\n",
       "0                      0.00           0.0            0.0  Winter  No Holiday   \n",
       "1                      0.00           0.0            0.0  Winter  No Holiday   \n",
       "2                      0.00           0.0            0.0  Winter  No Holiday   \n",
       "3                      0.00           0.0            0.0  Winter  No Holiday   \n",
       "4                      0.00           0.0            0.0  Winter  No Holiday   \n",
       "5                      0.00           0.0            0.0  Winter  No Holiday   \n",
       "6                      0.00           0.0            0.0  Winter  No Holiday   \n",
       "7                      0.00           0.0            0.0  Winter  No Holiday   \n",
       "8                      0.01           0.0            0.0  Winter  No Holiday   \n",
       "9                      0.23           0.0            0.0  Winter  No Holiday   \n",
       "10                     0.65           0.0            0.0  Winter  No Holiday   \n",
       "11                     0.94           0.0            0.0  Winter  No Holiday   \n",
       "12                     1.11           0.0            0.0  Winter  No Holiday   \n",
       "13                     1.16           0.0            0.0  Winter  No Holiday   \n",
       "14                     1.01           0.0            0.0  Winter  No Holiday   \n",
       "15                     0.54           0.0            0.0  Winter  No Holiday   \n",
       "16                     0.24           0.0            0.0  Winter  No Holiday   \n",
       "17                     0.08           0.0            0.0  Winter  No Holiday   \n",
       "18                     0.00           0.0            0.0  Winter  No Holiday   \n",
       "19                     0.00           0.0            0.0  Winter  No Holiday   \n",
       "20                     0.00           0.0            0.0  Winter  No Holiday   \n",
       "21                     0.00           0.0            0.0  Winter  No Holiday   \n",
       "22                     0.00           0.0            0.0  Winter  No Holiday   \n",
       "23                     0.00           0.0            0.0  Winter  No Holiday   \n",
       "24                     0.00           0.0            0.0  Winter  No Holiday   \n",
       "\n",
       "   Functioning Day  \n",
       "0              Yes  \n",
       "1              Yes  \n",
       "2              Yes  \n",
       "3              Yes  \n",
       "4              Yes  \n",
       "5              Yes  \n",
       "6              Yes  \n",
       "7              Yes  \n",
       "8              Yes  \n",
       "9              Yes  \n",
       "10             Yes  \n",
       "11             Yes  \n",
       "12             Yes  \n",
       "13             Yes  \n",
       "14             Yes  \n",
       "15             Yes  \n",
       "16             Yes  \n",
       "17             Yes  \n",
       "18             Yes  \n",
       "19             Yes  \n",
       "20             Yes  \n",
       "21             Yes  \n",
       "22             Yes  \n",
       "23             Yes  \n",
       "24             Yes  "
      ]
     },
     "execution_count": 4,
     "metadata": {},
     "output_type": "execute_result"
    }
   ],
   "source": [
    "data.head(25)"
   ]
  },
  {
   "cell_type": "code",
   "execution_count": 5,
   "metadata": {
    "colab": {
     "base_uri": "https://localhost:8080/",
     "height": 380
    },
    "colab_type": "code",
    "id": "GOF78p-5lrm0",
    "outputId": "82d8df27-6e20-4665-c796-a86673bca9af"
   },
   "outputs": [
    {
     "name": "stdout",
     "output_type": "stream",
     "text": [
      "<class 'pandas.core.frame.DataFrame'>\n",
      "RangeIndex: 8760 entries, 0 to 8759\n",
      "Data columns (total 14 columns):\n",
      "Date                         8760 non-null object\n",
      "Rented Bike Count            8760 non-null int64\n",
      "Hour                         8760 non-null int64\n",
      "Temperature(°C)              8760 non-null float64\n",
      "Humidity(%)                  8760 non-null int64\n",
      "Wind speed (m/s)             8760 non-null float64\n",
      "Visibility (10m)             8760 non-null int64\n",
      "Dew point temperature(°C)    8760 non-null float64\n",
      "Solar Radiation (MJ/m2)      8760 non-null float64\n",
      "Rainfall(mm)                 8760 non-null float64\n",
      "Snowfall (cm)                8760 non-null float64\n",
      "Seasons                      8760 non-null object\n",
      "Holiday                      8760 non-null object\n",
      "Functioning Day              8760 non-null object\n",
      "dtypes: float64(6), int64(4), object(4)\n",
      "memory usage: 958.2+ KB\n"
     ]
    }
   ],
   "source": [
    "data.info()"
   ]
  },
  {
   "cell_type": "code",
   "execution_count": 6,
   "metadata": {
    "colab": {
     "base_uri": "https://localhost:8080/",
     "height": 34
    },
    "colab_type": "code",
    "id": "KvUG83UQmSri",
    "outputId": "a1b46a9b-6afc-40fd-c8ca-69b8a572883e"
   },
   "outputs": [
    {
     "name": "stdout",
     "output_type": "stream",
     "text": [
      "shape of dataset is (8760, 14)\n"
     ]
    }
   ],
   "source": [
    "print(\"shape of dataset is\" ,data.shape)"
   ]
  },
  {
   "cell_type": "code",
   "execution_count": 7,
   "metadata": {
    "colab": {},
    "colab_type": "code",
    "id": "8tZbVR9Op-8o"
   },
   "outputs": [],
   "source": [
    "data['Date'] = pd.to_datetime(data['Date'])"
   ]
  },
  {
   "cell_type": "code",
   "execution_count": 8,
   "metadata": {
    "colab": {
     "base_uri": "https://localhost:8080/",
     "height": 276
    },
    "colab_type": "code",
    "id": "kmk4XzKetW7J",
    "outputId": "4b2a2bbb-52d7-4285-c1e0-0b817e09ff1b"
   },
   "outputs": [
    {
     "data": {
      "text/plain": [
       "Date                         datetime64[ns]\n",
       "Rented Bike Count                     int64\n",
       "Hour                                  int64\n",
       "Temperature(°C)                     float64\n",
       "Humidity(%)                           int64\n",
       "Wind speed (m/s)                    float64\n",
       "Visibility (10m)                      int64\n",
       "Dew point temperature(°C)           float64\n",
       "Solar Radiation (MJ/m2)             float64\n",
       "Rainfall(mm)                        float64\n",
       "Snowfall (cm)                       float64\n",
       "Seasons                              object\n",
       "Holiday                              object\n",
       "Functioning Day                      object\n",
       "dtype: object"
      ]
     },
     "execution_count": 8,
     "metadata": {},
     "output_type": "execute_result"
    }
   ],
   "source": [
    "data.dtypes"
   ]
  },
  {
   "cell_type": "code",
   "execution_count": 9,
   "metadata": {
    "colab": {
     "base_uri": "https://localhost:8080/",
     "height": 323
    },
    "colab_type": "code",
    "id": "xlbC-DvbmtqR",
    "outputId": "d9b57d17-6a35-42ec-a48e-85f82459d26f",
    "scrolled": true
   },
   "outputs": [
    {
     "data": {
      "text/html": [
       "<div>\n",
       "<style scoped>\n",
       "    .dataframe tbody tr th:only-of-type {\n",
       "        vertical-align: middle;\n",
       "    }\n",
       "\n",
       "    .dataframe tbody tr th {\n",
       "        vertical-align: top;\n",
       "    }\n",
       "\n",
       "    .dataframe thead th {\n",
       "        text-align: right;\n",
       "    }\n",
       "</style>\n",
       "<table border=\"1\" class=\"dataframe\">\n",
       "  <thead>\n",
       "    <tr style=\"text-align: right;\">\n",
       "      <th></th>\n",
       "      <th>Rented Bike Count</th>\n",
       "      <th>Hour</th>\n",
       "      <th>Temperature(°C)</th>\n",
       "      <th>Humidity(%)</th>\n",
       "      <th>Wind speed (m/s)</th>\n",
       "      <th>Visibility (10m)</th>\n",
       "      <th>Dew point temperature(°C)</th>\n",
       "      <th>Solar Radiation (MJ/m2)</th>\n",
       "      <th>Rainfall(mm)</th>\n",
       "      <th>Snowfall (cm)</th>\n",
       "    </tr>\n",
       "  </thead>\n",
       "  <tbody>\n",
       "    <tr>\n",
       "      <td>count</td>\n",
       "      <td>8760.000000</td>\n",
       "      <td>8760.000000</td>\n",
       "      <td>8760.000000</td>\n",
       "      <td>8760.000000</td>\n",
       "      <td>8760.000000</td>\n",
       "      <td>8760.000000</td>\n",
       "      <td>8760.000000</td>\n",
       "      <td>8760.000000</td>\n",
       "      <td>8760.000000</td>\n",
       "      <td>8760.000000</td>\n",
       "    </tr>\n",
       "    <tr>\n",
       "      <td>mean</td>\n",
       "      <td>704.602055</td>\n",
       "      <td>11.500000</td>\n",
       "      <td>12.882922</td>\n",
       "      <td>58.226256</td>\n",
       "      <td>1.724909</td>\n",
       "      <td>1436.825799</td>\n",
       "      <td>4.073813</td>\n",
       "      <td>0.569111</td>\n",
       "      <td>0.148687</td>\n",
       "      <td>0.075068</td>\n",
       "    </tr>\n",
       "    <tr>\n",
       "      <td>std</td>\n",
       "      <td>644.997468</td>\n",
       "      <td>6.922582</td>\n",
       "      <td>11.944825</td>\n",
       "      <td>20.362413</td>\n",
       "      <td>1.036300</td>\n",
       "      <td>608.298712</td>\n",
       "      <td>13.060369</td>\n",
       "      <td>0.868746</td>\n",
       "      <td>1.128193</td>\n",
       "      <td>0.436746</td>\n",
       "    </tr>\n",
       "    <tr>\n",
       "      <td>min</td>\n",
       "      <td>0.000000</td>\n",
       "      <td>0.000000</td>\n",
       "      <td>-17.800000</td>\n",
       "      <td>0.000000</td>\n",
       "      <td>0.000000</td>\n",
       "      <td>27.000000</td>\n",
       "      <td>-30.600000</td>\n",
       "      <td>0.000000</td>\n",
       "      <td>0.000000</td>\n",
       "      <td>0.000000</td>\n",
       "    </tr>\n",
       "    <tr>\n",
       "      <td>25%</td>\n",
       "      <td>191.000000</td>\n",
       "      <td>5.750000</td>\n",
       "      <td>3.500000</td>\n",
       "      <td>42.000000</td>\n",
       "      <td>0.900000</td>\n",
       "      <td>940.000000</td>\n",
       "      <td>-4.700000</td>\n",
       "      <td>0.000000</td>\n",
       "      <td>0.000000</td>\n",
       "      <td>0.000000</td>\n",
       "    </tr>\n",
       "    <tr>\n",
       "      <td>50%</td>\n",
       "      <td>504.500000</td>\n",
       "      <td>11.500000</td>\n",
       "      <td>13.700000</td>\n",
       "      <td>57.000000</td>\n",
       "      <td>1.500000</td>\n",
       "      <td>1698.000000</td>\n",
       "      <td>5.100000</td>\n",
       "      <td>0.010000</td>\n",
       "      <td>0.000000</td>\n",
       "      <td>0.000000</td>\n",
       "    </tr>\n",
       "    <tr>\n",
       "      <td>75%</td>\n",
       "      <td>1065.250000</td>\n",
       "      <td>17.250000</td>\n",
       "      <td>22.500000</td>\n",
       "      <td>74.000000</td>\n",
       "      <td>2.300000</td>\n",
       "      <td>2000.000000</td>\n",
       "      <td>14.800000</td>\n",
       "      <td>0.930000</td>\n",
       "      <td>0.000000</td>\n",
       "      <td>0.000000</td>\n",
       "    </tr>\n",
       "    <tr>\n",
       "      <td>max</td>\n",
       "      <td>3556.000000</td>\n",
       "      <td>23.000000</td>\n",
       "      <td>39.400000</td>\n",
       "      <td>98.000000</td>\n",
       "      <td>7.400000</td>\n",
       "      <td>2000.000000</td>\n",
       "      <td>27.200000</td>\n",
       "      <td>3.520000</td>\n",
       "      <td>35.000000</td>\n",
       "      <td>8.800000</td>\n",
       "    </tr>\n",
       "  </tbody>\n",
       "</table>\n",
       "</div>"
      ],
      "text/plain": [
       "       Rented Bike Count         Hour  Temperature(°C)  Humidity(%)  \\\n",
       "count        8760.000000  8760.000000      8760.000000  8760.000000   \n",
       "mean          704.602055    11.500000        12.882922    58.226256   \n",
       "std           644.997468     6.922582        11.944825    20.362413   \n",
       "min             0.000000     0.000000       -17.800000     0.000000   \n",
       "25%           191.000000     5.750000         3.500000    42.000000   \n",
       "50%           504.500000    11.500000        13.700000    57.000000   \n",
       "75%          1065.250000    17.250000        22.500000    74.000000   \n",
       "max          3556.000000    23.000000        39.400000    98.000000   \n",
       "\n",
       "       Wind speed (m/s)  Visibility (10m)  Dew point temperature(°C)  \\\n",
       "count       8760.000000       8760.000000                8760.000000   \n",
       "mean           1.724909       1436.825799                   4.073813   \n",
       "std            1.036300        608.298712                  13.060369   \n",
       "min            0.000000         27.000000                 -30.600000   \n",
       "25%            0.900000        940.000000                  -4.700000   \n",
       "50%            1.500000       1698.000000                   5.100000   \n",
       "75%            2.300000       2000.000000                  14.800000   \n",
       "max            7.400000       2000.000000                  27.200000   \n",
       "\n",
       "       Solar Radiation (MJ/m2)  Rainfall(mm)  Snowfall (cm)  \n",
       "count              8760.000000   8760.000000    8760.000000  \n",
       "mean                  0.569111      0.148687       0.075068  \n",
       "std                   0.868746      1.128193       0.436746  \n",
       "min                   0.000000      0.000000       0.000000  \n",
       "25%                   0.000000      0.000000       0.000000  \n",
       "50%                   0.010000      0.000000       0.000000  \n",
       "75%                   0.930000      0.000000       0.000000  \n",
       "max                   3.520000     35.000000       8.800000  "
      ]
     },
     "execution_count": 9,
     "metadata": {},
     "output_type": "execute_result"
    }
   ],
   "source": [
    "data.describe()"
   ]
  },
  {
   "cell_type": "code",
   "execution_count": 10,
   "metadata": {},
   "outputs": [],
   "source": [
    "cat_data=data.select_dtypes(exclude=np.number)\n",
    "num_data=data.select_dtypes(include=np.number)"
   ]
  },
  {
   "cell_type": "markdown",
   "metadata": {},
   "source": [
    "# Categorical Data"
   ]
  },
  {
   "cell_type": "code",
   "execution_count": 11,
   "metadata": {
    "scrolled": true
   },
   "outputs": [
    {
     "data": {
      "text/html": [
       "<div>\n",
       "<style scoped>\n",
       "    .dataframe tbody tr th:only-of-type {\n",
       "        vertical-align: middle;\n",
       "    }\n",
       "\n",
       "    .dataframe tbody tr th {\n",
       "        vertical-align: top;\n",
       "    }\n",
       "\n",
       "    .dataframe thead th {\n",
       "        text-align: right;\n",
       "    }\n",
       "</style>\n",
       "<table border=\"1\" class=\"dataframe\">\n",
       "  <thead>\n",
       "    <tr style=\"text-align: right;\">\n",
       "      <th></th>\n",
       "      <th>Date</th>\n",
       "      <th>Seasons</th>\n",
       "      <th>Holiday</th>\n",
       "      <th>Functioning Day</th>\n",
       "    </tr>\n",
       "  </thead>\n",
       "  <tbody>\n",
       "    <tr>\n",
       "      <td>0</td>\n",
       "      <td>2017-12-01</td>\n",
       "      <td>Winter</td>\n",
       "      <td>No Holiday</td>\n",
       "      <td>Yes</td>\n",
       "    </tr>\n",
       "    <tr>\n",
       "      <td>1</td>\n",
       "      <td>2017-12-01</td>\n",
       "      <td>Winter</td>\n",
       "      <td>No Holiday</td>\n",
       "      <td>Yes</td>\n",
       "    </tr>\n",
       "    <tr>\n",
       "      <td>2</td>\n",
       "      <td>2017-12-01</td>\n",
       "      <td>Winter</td>\n",
       "      <td>No Holiday</td>\n",
       "      <td>Yes</td>\n",
       "    </tr>\n",
       "    <tr>\n",
       "      <td>3</td>\n",
       "      <td>2017-12-01</td>\n",
       "      <td>Winter</td>\n",
       "      <td>No Holiday</td>\n",
       "      <td>Yes</td>\n",
       "    </tr>\n",
       "    <tr>\n",
       "      <td>4</td>\n",
       "      <td>2017-12-01</td>\n",
       "      <td>Winter</td>\n",
       "      <td>No Holiday</td>\n",
       "      <td>Yes</td>\n",
       "    </tr>\n",
       "  </tbody>\n",
       "</table>\n",
       "</div>"
      ],
      "text/plain": [
       "        Date Seasons     Holiday Functioning Day\n",
       "0 2017-12-01  Winter  No Holiday             Yes\n",
       "1 2017-12-01  Winter  No Holiday             Yes\n",
       "2 2017-12-01  Winter  No Holiday             Yes\n",
       "3 2017-12-01  Winter  No Holiday             Yes\n",
       "4 2017-12-01  Winter  No Holiday             Yes"
      ]
     },
     "execution_count": 11,
     "metadata": {},
     "output_type": "execute_result"
    }
   ],
   "source": [
    "cat_data.head()"
   ]
  },
  {
   "cell_type": "code",
   "execution_count": 12,
   "metadata": {},
   "outputs": [
    {
     "data": {
      "text/plain": [
       "Yes    8465\n",
       "No      295\n",
       "Name: Functioning Day, dtype: int64"
      ]
     },
     "execution_count": 12,
     "metadata": {},
     "output_type": "execute_result"
    }
   ],
   "source": [
    "cat_data['Functioning Day'].value_counts()"
   ]
  },
  {
   "cell_type": "code",
   "execution_count": 13,
   "metadata": {},
   "outputs": [
    {
     "data": {
      "text/plain": [
       "2018-05-21    25\n",
       "2018-06-28    25\n",
       "2018-01-31    25\n",
       "2018-03-29    25\n",
       "2018-09-03    25\n",
       "              ..\n",
       "2018-12-07     1\n",
       "2018-02-02     1\n",
       "2018-12-05     1\n",
       "2018-02-05     1\n",
       "2018-02-08     1\n",
       "Name: Date, Length: 371, dtype: int64"
      ]
     },
     "execution_count": 13,
     "metadata": {},
     "output_type": "execute_result"
    }
   ],
   "source": [
    "cat_data['Date'].value_counts()"
   ]
  },
  {
   "cell_type": "code",
   "execution_count": 14,
   "metadata": {},
   "outputs": [],
   "source": [
    "cat_data1=cat_data.copy()"
   ]
  },
  {
   "cell_type": "code",
   "execution_count": 15,
   "metadata": {
    "colab": {},
    "colab_type": "code",
    "id": "gqRmASekojtZ",
    "scrolled": true
   },
   "outputs": [
    {
     "data": {
      "image/png": "[encoded data removed]",
      "text/plain": [
       "<Figure size 432x288 with 1 Axes>"
      ]
     },
     "metadata": {
      "needs_background": "light"
     },
     "output_type": "display_data"
    },
    {
     "data": {
      "image/png": "[encoded data removed]",
      "text/plain": [
       "<Figure size 432x288 with 1 Axes>"
      ]
     },
     "metadata": {
      "needs_background": "light"
     },
     "output_type": "display_data"
    },
    {
     "data": {
      "image/png": "[encoded data removed]",
      "text/plain": [
       "<Figure size 432x288 with 1 Axes>"
      ]
     },
     "metadata": {
      "needs_background": "light"
     },
     "output_type": "display_data"
    },
    {
     "data": {
      "image/png": "[encoded data removed]",
      "text/plain": [
       "<Figure size 432x288 with 1 Axes>"
      ]
     },
     "metadata": {
      "needs_background": "light"
     },
     "output_type": "display_data"
    }
   ],
   "source": [
    "for loc in range(4):\n",
    "    sns.countplot(cat_data.iloc[:,loc])\n",
    "    plt.xticks(rotation=90)\n",
    "    plt.show()\n"
   ]
  },
  {
   "cell_type": "code",
   "execution_count": 16,
   "metadata": {},
   "outputs": [
    {
     "data": {
      "text/html": [
       "<div>\n",
       "<style scoped>\n",
       "    .dataframe tbody tr th:only-of-type {\n",
       "        vertical-align: middle;\n",
       "    }\n",
       "\n",
       "    .dataframe tbody tr th {\n",
       "        vertical-align: top;\n",
       "    }\n",
       "\n",
       "    .dataframe thead th {\n",
       "        text-align: right;\n",
       "    }\n",
       "</style>\n",
       "<table border=\"1\" class=\"dataframe\">\n",
       "  <thead>\n",
       "    <tr style=\"text-align: right;\">\n",
       "      <th></th>\n",
       "      <th>Rented Bike Count</th>\n",
       "      <th>Hour</th>\n",
       "      <th>Temperature(°C)</th>\n",
       "      <th>Humidity(%)</th>\n",
       "      <th>Wind speed (m/s)</th>\n",
       "      <th>Visibility (10m)</th>\n",
       "      <th>Dew point temperature(°C)</th>\n",
       "      <th>Solar Radiation (MJ/m2)</th>\n",
       "      <th>Rainfall(mm)</th>\n",
       "      <th>Snowfall (cm)</th>\n",
       "    </tr>\n",
       "  </thead>\n",
       "  <tbody>\n",
       "    <tr>\n",
       "      <td>0</td>\n",
       "      <td>254</td>\n",
       "      <td>0</td>\n",
       "      <td>-5.2</td>\n",
       "      <td>37</td>\n",
       "      <td>2.2</td>\n",
       "      <td>2000</td>\n",
       "      <td>-17.6</td>\n",
       "      <td>0.0</td>\n",
       "      <td>0.0</td>\n",
       "      <td>0.0</td>\n",
       "    </tr>\n",
       "    <tr>\n",
       "      <td>1</td>\n",
       "      <td>204</td>\n",
       "      <td>1</td>\n",
       "      <td>-5.5</td>\n",
       "      <td>38</td>\n",
       "      <td>0.8</td>\n",
       "      <td>2000</td>\n",
       "      <td>-17.6</td>\n",
       "      <td>0.0</td>\n",
       "      <td>0.0</td>\n",
       "      <td>0.0</td>\n",
       "    </tr>\n",
       "    <tr>\n",
       "      <td>2</td>\n",
       "      <td>173</td>\n",
       "      <td>2</td>\n",
       "      <td>-6.0</td>\n",
       "      <td>39</td>\n",
       "      <td>1.0</td>\n",
       "      <td>2000</td>\n",
       "      <td>-17.7</td>\n",
       "      <td>0.0</td>\n",
       "      <td>0.0</td>\n",
       "      <td>0.0</td>\n",
       "    </tr>\n",
       "    <tr>\n",
       "      <td>3</td>\n",
       "      <td>107</td>\n",
       "      <td>3</td>\n",
       "      <td>-6.2</td>\n",
       "      <td>40</td>\n",
       "      <td>0.9</td>\n",
       "      <td>2000</td>\n",
       "      <td>-17.6</td>\n",
       "      <td>0.0</td>\n",
       "      <td>0.0</td>\n",
       "      <td>0.0</td>\n",
       "    </tr>\n",
       "    <tr>\n",
       "      <td>4</td>\n",
       "      <td>78</td>\n",
       "      <td>4</td>\n",
       "      <td>-6.0</td>\n",
       "      <td>36</td>\n",
       "      <td>2.3</td>\n",
       "      <td>2000</td>\n",
       "      <td>-18.6</td>\n",
       "      <td>0.0</td>\n",
       "      <td>0.0</td>\n",
       "      <td>0.0</td>\n",
       "    </tr>\n",
       "  </tbody>\n",
       "</table>\n",
       "</div>"
      ],
      "text/plain": [
       "   Rented Bike Count  Hour  Temperature(°C)  Humidity(%)  Wind speed (m/s)  \\\n",
       "0                254     0             -5.2           37               2.2   \n",
       "1                204     1             -5.5           38               0.8   \n",
       "2                173     2             -6.0           39               1.0   \n",
       "3                107     3             -6.2           40               0.9   \n",
       "4                 78     4             -6.0           36               2.3   \n",
       "\n",
       "   Visibility (10m)  Dew point temperature(°C)  Solar Radiation (MJ/m2)  \\\n",
       "0              2000                      -17.6                      0.0   \n",
       "1              2000                      -17.6                      0.0   \n",
       "2              2000                      -17.7                      0.0   \n",
       "3              2000                      -17.6                      0.0   \n",
       "4              2000                      -18.6                      0.0   \n",
       "\n",
       "   Rainfall(mm)  Snowfall (cm)  \n",
       "0           0.0            0.0  \n",
       "1           0.0            0.0  \n",
       "2           0.0            0.0  \n",
       "3           0.0            0.0  \n",
       "4           0.0            0.0  "
      ]
     },
     "execution_count": 16,
     "metadata": {},
     "output_type": "execute_result"
    }
   ],
   "source": [
    "num_data.head()"
   ]
  },
  {
   "cell_type": "code",
   "execution_count": null,
   "metadata": {},
   "outputs": [],
   "source": []
  },
  {
   "cell_type": "code",
   "execution_count": 17,
   "metadata": {},
   "outputs": [
    {
     "data": {
      "image/png": "[encoded data removed]",
      "text/plain": [
       "<Figure size 432x288 with 1 Axes>"
      ]
     },
     "metadata": {
      "needs_background": "light"
     },
     "output_type": "display_data"
    },
    {
     "data": {
      "image/png": "[encoded data removed]",
      "text/plain": [
       "<Figure size 432x288 with 1 Axes>"
      ]
     },
     "metadata": {
      "needs_background": "light"
     },
     "output_type": "display_data"
    },
    {
     "data": {
      "image/png": "[encoded data removed]",
      "text/plain": [
       "<Figure size 432x288 with 1 Axes>"
      ]
     },
     "metadata": {
      "needs_background": "light"
     },
     "output_type": "display_data"
    },
    {
     "data": {
      "image/png": "[encoded data removed]",
      "text/plain": [
       "<Figure size 432x288 with 1 Axes>"
      ]
     },
     "metadata": {
      "needs_background": "light"
     },
     "output_type": "display_data"
    },
    {
     "data": {
      "image/png": "[encoded data removed]",
      "text/plain": [
       "<Figure size 432x288 with 1 Axes>"
      ]
     },
     "metadata": {
      "needs_background": "light"
     },
     "output_type": "display_data"
    },
    {
     "data": {
      "image/png": "[encoded data removed]",
      "text/plain": [
       "<Figure size 432x288 with 1 Axes>"
      ]
     },
     "metadata": {
      "needs_background": "light"
     },
     "output_type": "display_data"
    },
    {
     "data": {
      "image/png": "[encoded data removed]",
      "text/plain": [
       "<Figure size 432x288 with 1 Axes>"
      ]
     },
     "metadata": {
      "needs_background": "light"
     },
     "output_type": "display_data"
    },
    {
     "data": {
      "image/png": "[encoded data removed]",
      "text/plain": [
       "<Figure size 432x288 with 1 Axes>"
      ]
     },
     "metadata": {
      "needs_background": "light"
     },
     "output_type": "display_data"
    },
    {
     "data": {
      "image/png": "[encoded data removed]",
      "text/plain": [
       "<Figure size 432x288 with 1 Axes>"
      ]
     },
     "metadata": {
      "needs_background": "light"
     },
     "output_type": "display_data"
    },
    {
     "data": {
      "image/png": "[encoded data removed]",
      "text/plain": [
       "<Figure size 432x288 with 1 Axes>"
      ]
     },
     "metadata": {
      "needs_background": "light"
     },
     "output_type": "display_data"
    }
   ],
   "source": [
    "for loc in range(10):\n",
    "    sns.boxplot(num_data.iloc[:,loc])\n",
    "    plt.xticks(rotation=90)\n",
    "    plt.show()\n",
    "%matplotlib inline"
   ]
  },
  {
   "cell_type": "code",
   "execution_count": 18,
   "metadata": {},
   "outputs": [
    {
     "data": {
      "image/png": "[encoded data removed]",
      "text/plain": [
       "<Figure size 1080x720 with 25 Axes>"
      ]
     },
     "metadata": {
      "needs_background": "light"
     },
     "output_type": "display_data"
    }
   ],
   "source": [
    "num_data.plot(kind='kde',subplots=True,layout=(5,5),sharex=False,figsize=(15,10))\n",
    "plt.show()\n"
   ]
  },
  {
   "cell_type": "code",
   "execution_count": 19,
   "metadata": {},
   "outputs": [
    {
     "data": {
      "text/html": [
       "<div>\n",
       "<style scoped>\n",
       "    .dataframe tbody tr th:only-of-type {\n",
       "        vertical-align: middle;\n",
       "    }\n",
       "\n",
       "    .dataframe tbody tr th {\n",
       "        vertical-align: top;\n",
       "    }\n",
       "\n",
       "    .dataframe thead th {\n",
       "        text-align: right;\n",
       "    }\n",
       "</style>\n",
       "<table border=\"1\" class=\"dataframe\">\n",
       "  <thead>\n",
       "    <tr style=\"text-align: right;\">\n",
       "      <th></th>\n",
       "      <th>Rented Bike Count</th>\n",
       "      <th>Hour</th>\n",
       "      <th>Temperature(°C)</th>\n",
       "      <th>Humidity(%)</th>\n",
       "      <th>Wind speed (m/s)</th>\n",
       "      <th>Visibility (10m)</th>\n",
       "      <th>Dew point temperature(°C)</th>\n",
       "      <th>Solar Radiation (MJ/m2)</th>\n",
       "      <th>Rainfall(mm)</th>\n",
       "      <th>Snowfall (cm)</th>\n",
       "    </tr>\n",
       "  </thead>\n",
       "  <tbody>\n",
       "    <tr>\n",
       "      <td>Rented Bike Count</td>\n",
       "      <td>1.000000</td>\n",
       "      <td>0.410257</td>\n",
       "      <td>0.538558</td>\n",
       "      <td>-0.199780</td>\n",
       "      <td>0.121108</td>\n",
       "      <td>0.199280</td>\n",
       "      <td>0.379788</td>\n",
       "      <td>0.261837</td>\n",
       "      <td>-0.123074</td>\n",
       "      <td>-0.141804</td>\n",
       "    </tr>\n",
       "    <tr>\n",
       "      <td>Hour</td>\n",
       "      <td>0.410257</td>\n",
       "      <td>1.000000</td>\n",
       "      <td>0.124114</td>\n",
       "      <td>-0.241644</td>\n",
       "      <td>0.285197</td>\n",
       "      <td>0.098753</td>\n",
       "      <td>0.003054</td>\n",
       "      <td>0.145131</td>\n",
       "      <td>0.008715</td>\n",
       "      <td>-0.021516</td>\n",
       "    </tr>\n",
       "    <tr>\n",
       "      <td>Temperature(°C)</td>\n",
       "      <td>0.538558</td>\n",
       "      <td>0.124114</td>\n",
       "      <td>1.000000</td>\n",
       "      <td>0.159371</td>\n",
       "      <td>-0.036252</td>\n",
       "      <td>0.034794</td>\n",
       "      <td>0.912798</td>\n",
       "      <td>0.353505</td>\n",
       "      <td>0.050282</td>\n",
       "      <td>-0.218405</td>\n",
       "    </tr>\n",
       "    <tr>\n",
       "      <td>Humidity(%)</td>\n",
       "      <td>-0.199780</td>\n",
       "      <td>-0.241644</td>\n",
       "      <td>0.159371</td>\n",
       "      <td>1.000000</td>\n",
       "      <td>-0.336683</td>\n",
       "      <td>-0.543090</td>\n",
       "      <td>0.536894</td>\n",
       "      <td>-0.461919</td>\n",
       "      <td>0.236397</td>\n",
       "      <td>0.108183</td>\n",
       "    </tr>\n",
       "    <tr>\n",
       "      <td>Wind speed (m/s)</td>\n",
       "      <td>0.121108</td>\n",
       "      <td>0.285197</td>\n",
       "      <td>-0.036252</td>\n",
       "      <td>-0.336683</td>\n",
       "      <td>1.000000</td>\n",
       "      <td>0.171507</td>\n",
       "      <td>-0.176486</td>\n",
       "      <td>0.332274</td>\n",
       "      <td>-0.019674</td>\n",
       "      <td>-0.003554</td>\n",
       "    </tr>\n",
       "    <tr>\n",
       "      <td>Visibility (10m)</td>\n",
       "      <td>0.199280</td>\n",
       "      <td>0.098753</td>\n",
       "      <td>0.034794</td>\n",
       "      <td>-0.543090</td>\n",
       "      <td>0.171507</td>\n",
       "      <td>1.000000</td>\n",
       "      <td>-0.176630</td>\n",
       "      <td>0.149738</td>\n",
       "      <td>-0.167629</td>\n",
       "      <td>-0.121695</td>\n",
       "    </tr>\n",
       "    <tr>\n",
       "      <td>Dew point temperature(°C)</td>\n",
       "      <td>0.379788</td>\n",
       "      <td>0.003054</td>\n",
       "      <td>0.912798</td>\n",
       "      <td>0.536894</td>\n",
       "      <td>-0.176486</td>\n",
       "      <td>-0.176630</td>\n",
       "      <td>1.000000</td>\n",
       "      <td>0.094381</td>\n",
       "      <td>0.125597</td>\n",
       "      <td>-0.150887</td>\n",
       "    </tr>\n",
       "    <tr>\n",
       "      <td>Solar Radiation (MJ/m2)</td>\n",
       "      <td>0.261837</td>\n",
       "      <td>0.145131</td>\n",
       "      <td>0.353505</td>\n",
       "      <td>-0.461919</td>\n",
       "      <td>0.332274</td>\n",
       "      <td>0.149738</td>\n",
       "      <td>0.094381</td>\n",
       "      <td>1.000000</td>\n",
       "      <td>-0.074290</td>\n",
       "      <td>-0.072301</td>\n",
       "    </tr>\n",
       "    <tr>\n",
       "      <td>Rainfall(mm)</td>\n",
       "      <td>-0.123074</td>\n",
       "      <td>0.008715</td>\n",
       "      <td>0.050282</td>\n",
       "      <td>0.236397</td>\n",
       "      <td>-0.019674</td>\n",
       "      <td>-0.167629</td>\n",
       "      <td>0.125597</td>\n",
       "      <td>-0.074290</td>\n",
       "      <td>1.000000</td>\n",
       "      <td>0.008500</td>\n",
       "    </tr>\n",
       "    <tr>\n",
       "      <td>Snowfall (cm)</td>\n",
       "      <td>-0.141804</td>\n",
       "      <td>-0.021516</td>\n",
       "      <td>-0.218405</td>\n",
       "      <td>0.108183</td>\n",
       "      <td>-0.003554</td>\n",
       "      <td>-0.121695</td>\n",
       "      <td>-0.150887</td>\n",
       "      <td>-0.072301</td>\n",
       "      <td>0.008500</td>\n",
       "      <td>1.000000</td>\n",
       "    </tr>\n",
       "  </tbody>\n",
       "</table>\n",
       "</div>"
      ],
      "text/plain": [
       "                           Rented Bike Count      Hour  Temperature(°C)  \\\n",
       "Rented Bike Count                   1.000000  0.410257         0.538558   \n",
       "Hour                                0.410257  1.000000         0.124114   \n",
       "Temperature(°C)                     0.538558  0.124114         1.000000   \n",
       "Humidity(%)                        -0.199780 -0.241644         0.159371   \n",
       "Wind speed (m/s)                    0.121108  0.285197        -0.036252   \n",
       "Visibility (10m)                    0.199280  0.098753         0.034794   \n",
       "Dew point temperature(°C)           0.379788  0.003054         0.912798   \n",
       "Solar Radiation (MJ/m2)             0.261837  0.145131         0.353505   \n",
       "Rainfall(mm)                       -0.123074  0.008715         0.050282   \n",
       "Snowfall (cm)                      -0.141804 -0.021516        -0.218405   \n",
       "\n",
       "                           Humidity(%)  Wind speed (m/s)  Visibility (10m)  \\\n",
       "Rented Bike Count            -0.199780          0.121108          0.199280   \n",
       "Hour                         -0.241644          0.285197          0.098753   \n",
       "Temperature(°C)               0.159371         -0.036252          0.034794   \n",
       "Humidity(%)                   1.000000         -0.336683         -0.543090   \n",
       "Wind speed (m/s)             -0.336683          1.000000          0.171507   \n",
       "Visibility (10m)             -0.543090          0.171507          1.000000   \n",
       "Dew point temperature(°C)     0.536894         -0.176486         -0.176630   \n",
       "Solar Radiation (MJ/m2)      -0.461919          0.332274          0.149738   \n",
       "Rainfall(mm)                  0.236397         -0.019674         -0.167629   \n",
       "Snowfall (cm)                 0.108183         -0.003554         -0.121695   \n",
       "\n",
       "                           Dew point temperature(°C)  Solar Radiation (MJ/m2)  \\\n",
       "Rented Bike Count                           0.379788                 0.261837   \n",
       "Hour                                        0.003054                 0.145131   \n",
       "Temperature(°C)                             0.912798                 0.353505   \n",
       "Humidity(%)                                 0.536894                -0.461919   \n",
       "Wind speed (m/s)                           -0.176486                 0.332274   \n",
       "Visibility (10m)                           -0.176630                 0.149738   \n",
       "Dew point temperature(°C)                   1.000000                 0.094381   \n",
       "Solar Radiation (MJ/m2)                     0.094381                 1.000000   \n",
       "Rainfall(mm)                                0.125597                -0.074290   \n",
       "Snowfall (cm)                              -0.150887                -0.072301   \n",
       "\n",
       "                           Rainfall(mm)  Snowfall (cm)  \n",
       "Rented Bike Count             -0.123074      -0.141804  \n",
       "Hour                           0.008715      -0.021516  \n",
       "Temperature(°C)                0.050282      -0.218405  \n",
       "Humidity(%)                    0.236397       0.108183  \n",
       "Wind speed (m/s)              -0.019674      -0.003554  \n",
       "Visibility (10m)              -0.167629      -0.121695  \n",
       "Dew point temperature(°C)      0.125597      -0.150887  \n",
       "Solar Radiation (MJ/m2)       -0.074290      -0.072301  \n",
       "Rainfall(mm)                   1.000000       0.008500  \n",
       "Snowfall (cm)                  0.008500       1.000000  "
      ]
     },
     "execution_count": 19,
     "metadata": {},
     "output_type": "execute_result"
    }
   ],
   "source": [
    "num_data.corr()"
   ]
  },
  {
   "cell_type": "code",
   "execution_count": 20,
   "metadata": {},
   "outputs": [
    {
     "data": {
      "text/plain": [
       "<matplotlib.axes._subplots.AxesSubplot at 0xc2f2348>"
      ]
     },
     "execution_count": 20,
     "metadata": {},
     "output_type": "execute_result"
    },
    {
     "data": {
      "image/png": "[encoded data removed]",
      "text/plain": [
       "<Figure size 432x288 with 1 Axes>"
      ]
     },
     "metadata": {
      "needs_background": "light"
     },
     "output_type": "display_data"
    }
   ],
   "source": [
    "data['Rented Bike Count'].plot(kind='kde')   "
   ]
  },
  {
   "cell_type": "code",
   "execution_count": 21,
   "metadata": {},
   "outputs": [
    {
     "data": {
      "text/plain": [
       "0.8533869902003848"
      ]
     },
     "execution_count": 21,
     "metadata": {},
     "output_type": "execute_result"
    }
   ],
   "source": [
    "data['Rented Bike Count'].kurt()"
   ]
  },
  {
   "cell_type": "code",
   "execution_count": 22,
   "metadata": {},
   "outputs": [
    {
     "data": {
      "text/plain": [
       "1.1534281773679014"
      ]
     },
     "execution_count": 22,
     "metadata": {},
     "output_type": "execute_result"
    }
   ],
   "source": [
    "data['Rented Bike Count'].skew()"
   ]
  },
  {
   "cell_type": "code",
   "execution_count": 23,
   "metadata": {
    "scrolled": true
   },
   "outputs": [
    {
     "data": {
      "text/plain": [
       "(array([3648., 1619., 1310.,  910.,  514.,  406.,  250.,   61.,   26.,\n",
       "          16.]),\n",
       " array([   0. ,  355.6,  711.2, 1066.8, 1422.4, 1778. , 2133.6, 2489.2,\n",
       "        2844.8, 3200.4, 3556. ]),\n",
       " <a list of 10 Patch objects>)"
      ]
     },
     "execution_count": 23,
     "metadata": {},
     "output_type": "execute_result"
    },
    {
     "data": {
      "image/png": "[encoded data removed]",
      "text/plain": [
       "<Figure size 432x288 with 1 Axes>"
      ]
     },
     "metadata": {
      "needs_background": "light"
     },
     "output_type": "display_data"
    }
   ],
   "source": [
    "plt.hist(num_data['Rented Bike Count'],bins=10)"
   ]
  },
  {
   "cell_type": "code",
   "execution_count": 24,
   "metadata": {
    "scrolled": true
   },
   "outputs": [
    {
     "data": {
      "text/plain": [
       "<matplotlib.axes._subplots.AxesSubplot at 0xb33a2c8>"
      ]
     },
     "execution_count": 24,
     "metadata": {},
     "output_type": "execute_result"
    },
    {
     "data": {
      "image/png": "[encoded data removed]",
      "text/plain": [
       "<Figure size 432x288 with 1 Axes>"
      ]
     },
     "metadata": {
      "needs_background": "light"
     },
     "output_type": "display_data"
    }
   ],
   "source": [
    "\n",
    "sns.scatterplot(num_data['Hour'],num_data['Rented Bike Count'],hue=cat_data['Seasons'])\n"
   ]
  },
  {
   "cell_type": "code",
   "execution_count": 25,
   "metadata": {},
   "outputs": [
    {
     "data": {
      "image/png": "[encoded data removed]",
      "text/plain": [
       "<Figure size 1440x1440 with 1 Axes>"
      ]
     },
     "metadata": {
      "needs_background": "light"
     },
     "output_type": "display_data"
    }
   ],
   "source": [
    "plt.figure(figsize=[20,20])\n",
    "\n",
    "plt.bar(cat_data['Date'],num_data['Rented Bike Count'],width = 0.5, color='#0504aa')\n",
    "plt.xticks(rotation=90)\n",
    "plt.show()"
   ]
  },
  {
   "cell_type": "code",
   "execution_count": 26,
   "metadata": {},
   "outputs": [
    {
     "data": {
      "text/plain": [
       "<matplotlib.axes._subplots.AxesSubplot at 0x11e552c8>"
      ]
     },
     "execution_count": 26,
     "metadata": {},
     "output_type": "execute_result"
    },
    {
     "data": {
      "image/png": "[encoded data removed]",
      "text/plain": [
       "<Figure size 432x288 with 1 Axes>"
      ]
     },
     "metadata": {
      "needs_background": "light"
     },
     "output_type": "display_data"
    }
   ],
   "source": [
    "sns.scatterplot(num_data['Hour'],num_data['Rented Bike Count'])"
   ]
  },
  {
   "cell_type": "code",
   "execution_count": 27,
   "metadata": {},
   "outputs": [
    {
     "data": {
      "text/plain": [
       "<matplotlib.axes._subplots.AxesSubplot at 0x12241b48>"
      ]
     },
     "execution_count": 27,
     "metadata": {},
     "output_type": "execute_result"
    },
    {
     "data": {
      "image/png": "[encoded data removed]",
      "text/plain": [
       "<Figure size 432x288 with 1 Axes>"
      ]
     },
     "metadata": {
      "needs_background": "light"
     },
     "output_type": "display_data"
    }
   ],
   "source": [
    "sns.boxplot(x=data['Seasons'],y=num_data['Rented Bike Count'])"
   ]
  },
  {
   "cell_type": "code",
   "execution_count": 28,
   "metadata": {},
   "outputs": [
    {
     "data": {
      "text/plain": [
       "<matplotlib.axes._subplots.AxesSubplot at 0x12768e08>"
      ]
     },
     "execution_count": 28,
     "metadata": {},
     "output_type": "execute_result"
    },
    {
     "data": {
      "image/png": "[encoded data removed]",
      "text/plain": [
       "<Figure size 432x288 with 1 Axes>"
      ]
     },
     "metadata": {
      "needs_background": "light"
     },
     "output_type": "display_data"
    }
   ],
   "source": [
    "sns.boxplot(x=data['Functioning Day'],y=num_data['Rented Bike Count'])"
   ]
  },
  {
   "cell_type": "code",
   "execution_count": 29,
   "metadata": {},
   "outputs": [
    {
     "data": {
      "text/plain": [
       "Date                         0\n",
       "Rented Bike Count            0\n",
       "Hour                         0\n",
       "Temperature(°C)              0\n",
       "Humidity(%)                  0\n",
       "Wind speed (m/s)             0\n",
       "Visibility (10m)             0\n",
       "Dew point temperature(°C)    0\n",
       "Solar Radiation (MJ/m2)      0\n",
       "Rainfall(mm)                 0\n",
       "Snowfall (cm)                0\n",
       "Seasons                      0\n",
       "Holiday                      0\n",
       "Functioning Day              0\n",
       "dtype: int64"
      ]
     },
     "execution_count": 29,
     "metadata": {},
     "output_type": "execute_result"
    }
   ],
   "source": [
    "data.isnull().sum()"
   ]
  },
  {
   "cell_type": "code",
   "execution_count": 30,
   "metadata": {},
   "outputs": [
    {
     "data": {
      "text/plain": [
       "<matplotlib.axes._subplots.AxesSubplot at 0x12bee748>"
      ]
     },
     "execution_count": 30,
     "metadata": {},
     "output_type": "execute_result"
    },
    {
     "data": {
      "image/png": "[encoded data removed]",
      "text/plain": [
       "<Figure size 432x288 with 1 Axes>"
      ]
     },
     "metadata": {
      "needs_background": "light"
     },
     "output_type": "display_data"
    }
   ],
   "source": [
    "sns.boxplot(x=data['Holiday'],y=num_data['Rented Bike Count'])"
   ]
  },
  {
   "cell_type": "code",
   "execution_count": 31,
   "metadata": {},
   "outputs": [
    {
     "data": {
      "text/plain": [
       "<matplotlib.legend.Legend at 0xb1cdec8>"
      ]
     },
     "execution_count": 31,
     "metadata": {},
     "output_type": "execute_result"
    },
    {
     "data": {
      "image/png": "[encoded data removed]",
      "text/plain": [
       "<Figure size 432x288 with 1 Axes>"
      ]
     },
     "metadata": {
      "needs_background": "light"
     },
     "output_type": "display_data"
    }
   ],
   "source": [
    "q1 = num_data['Rented Bike Count'].quantile(q=0.25)   # compute the first quartile\n",
    "q2 = num_data['Rented Bike Count'].quantile(q=0.50)   # compute the second quartile\n",
    "q3 = num_data['Rented Bike Count'].quantile(q=0.75)   # compute the third quartile\n",
    "num_data['Rented Bike Count'].plot(kind='kde') \n",
    "plt.axvline(x = q1, ymax=0.92, color='red', linestyle='--', label =\"First Quartile\")     # plot the first quartile\n",
    "plt.axvline(x = q2, ymax=0.49, color='blue', linestyle='--', label =\"Second Quartile\")   # plot the second quartile\n",
    "plt.axvline(x = q3, ymax=0.37, color='green', linestyle='--', label =\"Third Quartile\")   # plot the third quartile\n",
    "plt.legend(loc=\"best\", fontsize= 15)\n"
   ]
  },
  {
   "cell_type": "code",
   "execution_count": 32,
   "metadata": {},
   "outputs": [
    {
     "data": {
      "text/plain": [
       "704.6020547945205"
      ]
     },
     "execution_count": 32,
     "metadata": {},
     "output_type": "execute_result"
    }
   ],
   "source": [
    "num_data['Rented Bike Count'].mean()"
   ]
  },
  {
   "cell_type": "code",
   "execution_count": 33,
   "metadata": {},
   "outputs": [
    {
     "data": {
      "text/plain": [
       "504.5"
      ]
     },
     "execution_count": 33,
     "metadata": {},
     "output_type": "execute_result"
    }
   ],
   "source": [
    "num_data['Rented Bike Count'].median()"
   ]
  },
  {
   "cell_type": "code",
   "execution_count": 34,
   "metadata": {},
   "outputs": [
    {
     "data": {
      "text/plain": [
       "0       295\n",
       "122      19\n",
       "223      19\n",
       "262      19\n",
       "103      18\n",
       "       ... \n",
       "2379      1\n",
       "1589      1\n",
       "1597      1\n",
       "1605      1\n",
       "2047      1\n",
       "Name: Rented Bike Count, Length: 2166, dtype: int64"
      ]
     },
     "execution_count": 34,
     "metadata": {},
     "output_type": "execute_result"
    }
   ],
   "source": [
    "(num_data['Rented Bike Count'].value_counts())"
   ]
  },
  {
   "cell_type": "code",
   "execution_count": 35,
   "metadata": {},
   "outputs": [
    {
     "data": {
      "text/html": [
       "<div>\n",
       "<style scoped>\n",
       "    .dataframe tbody tr th:only-of-type {\n",
       "        vertical-align: middle;\n",
       "    }\n",
       "\n",
       "    .dataframe tbody tr th {\n",
       "        vertical-align: top;\n",
       "    }\n",
       "\n",
       "    .dataframe thead th {\n",
       "        text-align: right;\n",
       "    }\n",
       "</style>\n",
       "<table border=\"1\" class=\"dataframe\">\n",
       "  <thead>\n",
       "    <tr style=\"text-align: right;\">\n",
       "      <th></th>\n",
       "      <th>Date</th>\n",
       "      <th>Seasons</th>\n",
       "      <th>Holiday</th>\n",
       "      <th>Functioning Day</th>\n",
       "    </tr>\n",
       "  </thead>\n",
       "  <tbody>\n",
       "    <tr>\n",
       "      <td>0</td>\n",
       "      <td>2017-12-01</td>\n",
       "      <td>Winter</td>\n",
       "      <td>No Holiday</td>\n",
       "      <td>Yes</td>\n",
       "    </tr>\n",
       "    <tr>\n",
       "      <td>1</td>\n",
       "      <td>2017-12-01</td>\n",
       "      <td>Winter</td>\n",
       "      <td>No Holiday</td>\n",
       "      <td>Yes</td>\n",
       "    </tr>\n",
       "    <tr>\n",
       "      <td>2</td>\n",
       "      <td>2017-12-01</td>\n",
       "      <td>Winter</td>\n",
       "      <td>No Holiday</td>\n",
       "      <td>Yes</td>\n",
       "    </tr>\n",
       "    <tr>\n",
       "      <td>3</td>\n",
       "      <td>2017-12-01</td>\n",
       "      <td>Winter</td>\n",
       "      <td>No Holiday</td>\n",
       "      <td>Yes</td>\n",
       "    </tr>\n",
       "    <tr>\n",
       "      <td>4</td>\n",
       "      <td>2017-12-01</td>\n",
       "      <td>Winter</td>\n",
       "      <td>No Holiday</td>\n",
       "      <td>Yes</td>\n",
       "    </tr>\n",
       "    <tr>\n",
       "      <td>...</td>\n",
       "      <td>...</td>\n",
       "      <td>...</td>\n",
       "      <td>...</td>\n",
       "      <td>...</td>\n",
       "    </tr>\n",
       "    <tr>\n",
       "      <td>8755</td>\n",
       "      <td>2018-11-30</td>\n",
       "      <td>Autumn</td>\n",
       "      <td>No Holiday</td>\n",
       "      <td>Yes</td>\n",
       "    </tr>\n",
       "    <tr>\n",
       "      <td>8756</td>\n",
       "      <td>2018-11-30</td>\n",
       "      <td>Autumn</td>\n",
       "      <td>No Holiday</td>\n",
       "      <td>Yes</td>\n",
       "    </tr>\n",
       "    <tr>\n",
       "      <td>8757</td>\n",
       "      <td>2018-11-30</td>\n",
       "      <td>Autumn</td>\n",
       "      <td>No Holiday</td>\n",
       "      <td>Yes</td>\n",
       "    </tr>\n",
       "    <tr>\n",
       "      <td>8758</td>\n",
       "      <td>2018-11-30</td>\n",
       "      <td>Autumn</td>\n",
       "      <td>No Holiday</td>\n",
       "      <td>Yes</td>\n",
       "    </tr>\n",
       "    <tr>\n",
       "      <td>8759</td>\n",
       "      <td>2018-11-30</td>\n",
       "      <td>Autumn</td>\n",
       "      <td>No Holiday</td>\n",
       "      <td>Yes</td>\n",
       "    </tr>\n",
       "  </tbody>\n",
       "</table>\n",
       "<p>8760 rows × 4 columns</p>\n",
       "</div>"
      ],
      "text/plain": [
       "           Date Seasons     Holiday Functioning Day\n",
       "0    2017-12-01  Winter  No Holiday             Yes\n",
       "1    2017-12-01  Winter  No Holiday             Yes\n",
       "2    2017-12-01  Winter  No Holiday             Yes\n",
       "3    2017-12-01  Winter  No Holiday             Yes\n",
       "4    2017-12-01  Winter  No Holiday             Yes\n",
       "...         ...     ...         ...             ...\n",
       "8755 2018-11-30  Autumn  No Holiday             Yes\n",
       "8756 2018-11-30  Autumn  No Holiday             Yes\n",
       "8757 2018-11-30  Autumn  No Holiday             Yes\n",
       "8758 2018-11-30  Autumn  No Holiday             Yes\n",
       "8759 2018-11-30  Autumn  No Holiday             Yes\n",
       "\n",
       "[8760 rows x 4 columns]"
      ]
     },
     "execution_count": 35,
     "metadata": {},
     "output_type": "execute_result"
    }
   ],
   "source": [
    "cat_data1"
   ]
  },
  {
   "cell_type": "code",
   "execution_count": 36,
   "metadata": {},
   "outputs": [],
   "source": [
    "num_data1=num_data.drop('Dew point temperature(°C)',axis=1)"
   ]
  },
  {
   "cell_type": "code",
   "execution_count": 37,
   "metadata": {},
   "outputs": [
    {
     "data": {
      "text/html": [
       "<div>\n",
       "<style scoped>\n",
       "    .dataframe tbody tr th:only-of-type {\n",
       "        vertical-align: middle;\n",
       "    }\n",
       "\n",
       "    .dataframe tbody tr th {\n",
       "        vertical-align: top;\n",
       "    }\n",
       "\n",
       "    .dataframe thead th {\n",
       "        text-align: right;\n",
       "    }\n",
       "</style>\n",
       "<table border=\"1\" class=\"dataframe\">\n",
       "  <thead>\n",
       "    <tr style=\"text-align: right;\">\n",
       "      <th></th>\n",
       "      <th>Rented Bike Count</th>\n",
       "      <th>Hour</th>\n",
       "      <th>Temperature(°C)</th>\n",
       "      <th>Humidity(%)</th>\n",
       "      <th>Wind speed (m/s)</th>\n",
       "      <th>Visibility (10m)</th>\n",
       "      <th>Solar Radiation (MJ/m2)</th>\n",
       "      <th>Rainfall(mm)</th>\n",
       "      <th>Snowfall (cm)</th>\n",
       "    </tr>\n",
       "  </thead>\n",
       "  <tbody>\n",
       "    <tr>\n",
       "      <td>Rented Bike Count</td>\n",
       "      <td>1.000000</td>\n",
       "      <td>0.410257</td>\n",
       "      <td>0.538558</td>\n",
       "      <td>-0.199780</td>\n",
       "      <td>0.121108</td>\n",
       "      <td>0.199280</td>\n",
       "      <td>0.261837</td>\n",
       "      <td>-0.123074</td>\n",
       "      <td>-0.141804</td>\n",
       "    </tr>\n",
       "    <tr>\n",
       "      <td>Hour</td>\n",
       "      <td>0.410257</td>\n",
       "      <td>1.000000</td>\n",
       "      <td>0.124114</td>\n",
       "      <td>-0.241644</td>\n",
       "      <td>0.285197</td>\n",
       "      <td>0.098753</td>\n",
       "      <td>0.145131</td>\n",
       "      <td>0.008715</td>\n",
       "      <td>-0.021516</td>\n",
       "    </tr>\n",
       "    <tr>\n",
       "      <td>Temperature(°C)</td>\n",
       "      <td>0.538558</td>\n",
       "      <td>0.124114</td>\n",
       "      <td>1.000000</td>\n",
       "      <td>0.159371</td>\n",
       "      <td>-0.036252</td>\n",
       "      <td>0.034794</td>\n",
       "      <td>0.353505</td>\n",
       "      <td>0.050282</td>\n",
       "      <td>-0.218405</td>\n",
       "    </tr>\n",
       "    <tr>\n",
       "      <td>Humidity(%)</td>\n",
       "      <td>-0.199780</td>\n",
       "      <td>-0.241644</td>\n",
       "      <td>0.159371</td>\n",
       "      <td>1.000000</td>\n",
       "      <td>-0.336683</td>\n",
       "      <td>-0.543090</td>\n",
       "      <td>-0.461919</td>\n",
       "      <td>0.236397</td>\n",
       "      <td>0.108183</td>\n",
       "    </tr>\n",
       "    <tr>\n",
       "      <td>Wind speed (m/s)</td>\n",
       "      <td>0.121108</td>\n",
       "      <td>0.285197</td>\n",
       "      <td>-0.036252</td>\n",
       "      <td>-0.336683</td>\n",
       "      <td>1.000000</td>\n",
       "      <td>0.171507</td>\n",
       "      <td>0.332274</td>\n",
       "      <td>-0.019674</td>\n",
       "      <td>-0.003554</td>\n",
       "    </tr>\n",
       "    <tr>\n",
       "      <td>Visibility (10m)</td>\n",
       "      <td>0.199280</td>\n",
       "      <td>0.098753</td>\n",
       "      <td>0.034794</td>\n",
       "      <td>-0.543090</td>\n",
       "      <td>0.171507</td>\n",
       "      <td>1.000000</td>\n",
       "      <td>0.149738</td>\n",
       "      <td>-0.167629</td>\n",
       "      <td>-0.121695</td>\n",
       "    </tr>\n",
       "    <tr>\n",
       "      <td>Solar Radiation (MJ/m2)</td>\n",
       "      <td>0.261837</td>\n",
       "      <td>0.145131</td>\n",
       "      <td>0.353505</td>\n",
       "      <td>-0.461919</td>\n",
       "      <td>0.332274</td>\n",
       "      <td>0.149738</td>\n",
       "      <td>1.000000</td>\n",
       "      <td>-0.074290</td>\n",
       "      <td>-0.072301</td>\n",
       "    </tr>\n",
       "    <tr>\n",
       "      <td>Rainfall(mm)</td>\n",
       "      <td>-0.123074</td>\n",
       "      <td>0.008715</td>\n",
       "      <td>0.050282</td>\n",
       "      <td>0.236397</td>\n",
       "      <td>-0.019674</td>\n",
       "      <td>-0.167629</td>\n",
       "      <td>-0.074290</td>\n",
       "      <td>1.000000</td>\n",
       "      <td>0.008500</td>\n",
       "    </tr>\n",
       "    <tr>\n",
       "      <td>Snowfall (cm)</td>\n",
       "      <td>-0.141804</td>\n",
       "      <td>-0.021516</td>\n",
       "      <td>-0.218405</td>\n",
       "      <td>0.108183</td>\n",
       "      <td>-0.003554</td>\n",
       "      <td>-0.121695</td>\n",
       "      <td>-0.072301</td>\n",
       "      <td>0.008500</td>\n",
       "      <td>1.000000</td>\n",
       "    </tr>\n",
       "  </tbody>\n",
       "</table>\n",
       "</div>"
      ],
      "text/plain": [
       "                         Rented Bike Count      Hour  Temperature(°C)  \\\n",
       "Rented Bike Count                 1.000000  0.410257         0.538558   \n",
       "Hour                              0.410257  1.000000         0.124114   \n",
       "Temperature(°C)                   0.538558  0.124114         1.000000   \n",
       "Humidity(%)                      -0.199780 -0.241644         0.159371   \n",
       "Wind speed (m/s)                  0.121108  0.285197        -0.036252   \n",
       "Visibility (10m)                  0.199280  0.098753         0.034794   \n",
       "Solar Radiation (MJ/m2)           0.261837  0.145131         0.353505   \n",
       "Rainfall(mm)                     -0.123074  0.008715         0.050282   \n",
       "Snowfall (cm)                    -0.141804 -0.021516        -0.218405   \n",
       "\n",
       "                         Humidity(%)  Wind speed (m/s)  Visibility (10m)  \\\n",
       "Rented Bike Count          -0.199780          0.121108          0.199280   \n",
       "Hour                       -0.241644          0.285197          0.098753   \n",
       "Temperature(°C)             0.159371         -0.036252          0.034794   \n",
       "Humidity(%)                 1.000000         -0.336683         -0.543090   \n",
       "Wind speed (m/s)           -0.336683          1.000000          0.171507   \n",
       "Visibility (10m)           -0.543090          0.171507          1.000000   \n",
       "Solar Radiation (MJ/m2)    -0.461919          0.332274          0.149738   \n",
       "Rainfall(mm)                0.236397         -0.019674         -0.167629   \n",
       "Snowfall (cm)               0.108183         -0.003554         -0.121695   \n",
       "\n",
       "                         Solar Radiation (MJ/m2)  Rainfall(mm)  Snowfall (cm)  \n",
       "Rented Bike Count                       0.261837     -0.123074      -0.141804  \n",
       "Hour                                    0.145131      0.008715      -0.021516  \n",
       "Temperature(°C)                         0.353505      0.050282      -0.218405  \n",
       "Humidity(%)                            -0.461919      0.236397       0.108183  \n",
       "Wind speed (m/s)                        0.332274     -0.019674      -0.003554  \n",
       "Visibility (10m)                        0.149738     -0.167629      -0.121695  \n",
       "Solar Radiation (MJ/m2)                 1.000000     -0.074290      -0.072301  \n",
       "Rainfall(mm)                           -0.074290      1.000000       0.008500  \n",
       "Snowfall (cm)                          -0.072301      0.008500       1.000000  "
      ]
     },
     "execution_count": 37,
     "metadata": {},
     "output_type": "execute_result"
    }
   ],
   "source": [
    "num_data1.corr()"
   ]
  },
  {
   "cell_type": "code",
   "execution_count": 38,
   "metadata": {},
   "outputs": [
    {
     "data": {
      "text/html": [
       "<div>\n",
       "<style scoped>\n",
       "    .dataframe tbody tr th:only-of-type {\n",
       "        vertical-align: middle;\n",
       "    }\n",
       "\n",
       "    .dataframe tbody tr th {\n",
       "        vertical-align: top;\n",
       "    }\n",
       "\n",
       "    .dataframe thead th {\n",
       "        text-align: right;\n",
       "    }\n",
       "</style>\n",
       "<table border=\"1\" class=\"dataframe\">\n",
       "  <thead>\n",
       "    <tr style=\"text-align: right;\">\n",
       "      <th></th>\n",
       "      <th>Date</th>\n",
       "      <th>Seasons</th>\n",
       "      <th>Holiday</th>\n",
       "      <th>Functioning Day</th>\n",
       "    </tr>\n",
       "  </thead>\n",
       "  <tbody>\n",
       "    <tr>\n",
       "      <td>0</td>\n",
       "      <td>2017-12-01</td>\n",
       "      <td>Winter</td>\n",
       "      <td>No Holiday</td>\n",
       "      <td>Yes</td>\n",
       "    </tr>\n",
       "    <tr>\n",
       "      <td>1</td>\n",
       "      <td>2017-12-01</td>\n",
       "      <td>Winter</td>\n",
       "      <td>No Holiday</td>\n",
       "      <td>Yes</td>\n",
       "    </tr>\n",
       "    <tr>\n",
       "      <td>2</td>\n",
       "      <td>2017-12-01</td>\n",
       "      <td>Winter</td>\n",
       "      <td>No Holiday</td>\n",
       "      <td>Yes</td>\n",
       "    </tr>\n",
       "    <tr>\n",
       "      <td>3</td>\n",
       "      <td>2017-12-01</td>\n",
       "      <td>Winter</td>\n",
       "      <td>No Holiday</td>\n",
       "      <td>Yes</td>\n",
       "    </tr>\n",
       "    <tr>\n",
       "      <td>4</td>\n",
       "      <td>2017-12-01</td>\n",
       "      <td>Winter</td>\n",
       "      <td>No Holiday</td>\n",
       "      <td>Yes</td>\n",
       "    </tr>\n",
       "  </tbody>\n",
       "</table>\n",
       "</div>"
      ],
      "text/plain": [
       "        Date Seasons     Holiday Functioning Day\n",
       "0 2017-12-01  Winter  No Holiday             Yes\n",
       "1 2017-12-01  Winter  No Holiday             Yes\n",
       "2 2017-12-01  Winter  No Holiday             Yes\n",
       "3 2017-12-01  Winter  No Holiday             Yes\n",
       "4 2017-12-01  Winter  No Holiday             Yes"
      ]
     },
     "execution_count": 38,
     "metadata": {},
     "output_type": "execute_result"
    }
   ],
   "source": [
    "cat_data.head()"
   ]
  },
  {
   "cell_type": "code",
   "execution_count": 39,
   "metadata": {},
   "outputs": [],
   "source": [
    "cat_data1=pd.get_dummies(cat_data,columns=['Seasons'],drop_first=True)"
   ]
  },
  {
   "cell_type": "code",
   "execution_count": 40,
   "metadata": {},
   "outputs": [],
   "source": [
    "cat_data1=pd.get_dummies(cat_data,columns=['Holiday','Functioning Day'],drop_first=True)"
   ]
  },
  {
   "cell_type": "code",
   "execution_count": 41,
   "metadata": {},
   "outputs": [
    {
     "data": {
      "text/html": [
       "<div>\n",
       "<style scoped>\n",
       "    .dataframe tbody tr th:only-of-type {\n",
       "        vertical-align: middle;\n",
       "    }\n",
       "\n",
       "    .dataframe tbody tr th {\n",
       "        vertical-align: top;\n",
       "    }\n",
       "\n",
       "    .dataframe thead th {\n",
       "        text-align: right;\n",
       "    }\n",
       "</style>\n",
       "<table border=\"1\" class=\"dataframe\">\n",
       "  <thead>\n",
       "    <tr style=\"text-align: right;\">\n",
       "      <th></th>\n",
       "      <th>Date</th>\n",
       "      <th>Seasons</th>\n",
       "      <th>Holiday_No Holiday</th>\n",
       "      <th>Functioning Day_Yes</th>\n",
       "    </tr>\n",
       "  </thead>\n",
       "  <tbody>\n",
       "    <tr>\n",
       "      <td>0</td>\n",
       "      <td>2017-12-01</td>\n",
       "      <td>Winter</td>\n",
       "      <td>1</td>\n",
       "      <td>1</td>\n",
       "    </tr>\n",
       "    <tr>\n",
       "      <td>1</td>\n",
       "      <td>2017-12-01</td>\n",
       "      <td>Winter</td>\n",
       "      <td>1</td>\n",
       "      <td>1</td>\n",
       "    </tr>\n",
       "    <tr>\n",
       "      <td>2</td>\n",
       "      <td>2017-12-01</td>\n",
       "      <td>Winter</td>\n",
       "      <td>1</td>\n",
       "      <td>1</td>\n",
       "    </tr>\n",
       "    <tr>\n",
       "      <td>3</td>\n",
       "      <td>2017-12-01</td>\n",
       "      <td>Winter</td>\n",
       "      <td>1</td>\n",
       "      <td>1</td>\n",
       "    </tr>\n",
       "    <tr>\n",
       "      <td>4</td>\n",
       "      <td>2017-12-01</td>\n",
       "      <td>Winter</td>\n",
       "      <td>1</td>\n",
       "      <td>1</td>\n",
       "    </tr>\n",
       "  </tbody>\n",
       "</table>\n",
       "</div>"
      ],
      "text/plain": [
       "        Date Seasons  Holiday_No Holiday  Functioning Day_Yes\n",
       "0 2017-12-01  Winter                   1                    1\n",
       "1 2017-12-01  Winter                   1                    1\n",
       "2 2017-12-01  Winter                   1                    1\n",
       "3 2017-12-01  Winter                   1                    1\n",
       "4 2017-12-01  Winter                   1                    1"
      ]
     },
     "execution_count": 41,
     "metadata": {},
     "output_type": "execute_result"
    }
   ],
   "source": [
    "cat_data1.head()"
   ]
  },
  {
   "cell_type": "code",
   "execution_count": 42,
   "metadata": {},
   "outputs": [],
   "source": [
    "cat_data1['Seasons']=cat_data1['Seasons'].replace({'Winter':0,'Spring':1,'Summer':2,'Autumn':3})"
   ]
  },
  {
   "cell_type": "code",
   "execution_count": 43,
   "metadata": {},
   "outputs": [
    {
     "data": {
      "text/plain": [
       "2    2208\n",
       "1    2208\n",
       "3    2184\n",
       "0    2160\n",
       "Name: Seasons, dtype: int64"
      ]
     },
     "execution_count": 43,
     "metadata": {},
     "output_type": "execute_result"
    }
   ],
   "source": [
    "cat_data1['Seasons'].value_counts()"
   ]
  },
  {
   "cell_type": "code",
   "execution_count": 44,
   "metadata": {},
   "outputs": [
    {
     "data": {
      "text/html": [
       "<div>\n",
       "<style scoped>\n",
       "    .dataframe tbody tr th:only-of-type {\n",
       "        vertical-align: middle;\n",
       "    }\n",
       "\n",
       "    .dataframe tbody tr th {\n",
       "        vertical-align: top;\n",
       "    }\n",
       "\n",
       "    .dataframe thead th {\n",
       "        text-align: right;\n",
       "    }\n",
       "</style>\n",
       "<table border=\"1\" class=\"dataframe\">\n",
       "  <thead>\n",
       "    <tr style=\"text-align: right;\">\n",
       "      <th></th>\n",
       "      <th>Date</th>\n",
       "      <th>Seasons</th>\n",
       "      <th>Holiday_No Holiday</th>\n",
       "      <th>Functioning Day_Yes</th>\n",
       "    </tr>\n",
       "  </thead>\n",
       "  <tbody>\n",
       "    <tr>\n",
       "      <td>0</td>\n",
       "      <td>2017-12-01</td>\n",
       "      <td>0</td>\n",
       "      <td>1</td>\n",
       "      <td>1</td>\n",
       "    </tr>\n",
       "    <tr>\n",
       "      <td>1</td>\n",
       "      <td>2017-12-01</td>\n",
       "      <td>0</td>\n",
       "      <td>1</td>\n",
       "      <td>1</td>\n",
       "    </tr>\n",
       "    <tr>\n",
       "      <td>2</td>\n",
       "      <td>2017-12-01</td>\n",
       "      <td>0</td>\n",
       "      <td>1</td>\n",
       "      <td>1</td>\n",
       "    </tr>\n",
       "    <tr>\n",
       "      <td>3</td>\n",
       "      <td>2017-12-01</td>\n",
       "      <td>0</td>\n",
       "      <td>1</td>\n",
       "      <td>1</td>\n",
       "    </tr>\n",
       "    <tr>\n",
       "      <td>4</td>\n",
       "      <td>2017-12-01</td>\n",
       "      <td>0</td>\n",
       "      <td>1</td>\n",
       "      <td>1</td>\n",
       "    </tr>\n",
       "  </tbody>\n",
       "</table>\n",
       "</div>"
      ],
      "text/plain": [
       "        Date  Seasons  Holiday_No Holiday  Functioning Day_Yes\n",
       "0 2017-12-01        0                   1                    1\n",
       "1 2017-12-01        0                   1                    1\n",
       "2 2017-12-01        0                   1                    1\n",
       "3 2017-12-01        0                   1                    1\n",
       "4 2017-12-01        0                   1                    1"
      ]
     },
     "execution_count": 44,
     "metadata": {},
     "output_type": "execute_result"
    }
   ],
   "source": [
    "cat_data1.head()"
   ]
  },
  {
   "cell_type": "code",
   "execution_count": 45,
   "metadata": {
    "scrolled": true
   },
   "outputs": [
    {
     "data": {
      "text/html": [
       "<div>\n",
       "<style scoped>\n",
       "    .dataframe tbody tr th:only-of-type {\n",
       "        vertical-align: middle;\n",
       "    }\n",
       "\n",
       "    .dataframe tbody tr th {\n",
       "        vertical-align: top;\n",
       "    }\n",
       "\n",
       "    .dataframe thead th {\n",
       "        text-align: right;\n",
       "    }\n",
       "</style>\n",
       "<table border=\"1\" class=\"dataframe\">\n",
       "  <thead>\n",
       "    <tr style=\"text-align: right;\">\n",
       "      <th></th>\n",
       "      <th>Rented Bike Count</th>\n",
       "      <th>Hour</th>\n",
       "      <th>Temperature(°C)</th>\n",
       "      <th>Humidity(%)</th>\n",
       "      <th>Wind speed (m/s)</th>\n",
       "      <th>Visibility (10m)</th>\n",
       "      <th>Solar Radiation (MJ/m2)</th>\n",
       "      <th>Rainfall(mm)</th>\n",
       "      <th>Snowfall (cm)</th>\n",
       "    </tr>\n",
       "  </thead>\n",
       "  <tbody>\n",
       "    <tr>\n",
       "      <td>0</td>\n",
       "      <td>254</td>\n",
       "      <td>0</td>\n",
       "      <td>-5.2</td>\n",
       "      <td>37</td>\n",
       "      <td>2.2</td>\n",
       "      <td>2000</td>\n",
       "      <td>0.0</td>\n",
       "      <td>0.0</td>\n",
       "      <td>0.0</td>\n",
       "    </tr>\n",
       "    <tr>\n",
       "      <td>1</td>\n",
       "      <td>204</td>\n",
       "      <td>1</td>\n",
       "      <td>-5.5</td>\n",
       "      <td>38</td>\n",
       "      <td>0.8</td>\n",
       "      <td>2000</td>\n",
       "      <td>0.0</td>\n",
       "      <td>0.0</td>\n",
       "      <td>0.0</td>\n",
       "    </tr>\n",
       "    <tr>\n",
       "      <td>2</td>\n",
       "      <td>173</td>\n",
       "      <td>2</td>\n",
       "      <td>-6.0</td>\n",
       "      <td>39</td>\n",
       "      <td>1.0</td>\n",
       "      <td>2000</td>\n",
       "      <td>0.0</td>\n",
       "      <td>0.0</td>\n",
       "      <td>0.0</td>\n",
       "    </tr>\n",
       "    <tr>\n",
       "      <td>3</td>\n",
       "      <td>107</td>\n",
       "      <td>3</td>\n",
       "      <td>-6.2</td>\n",
       "      <td>40</td>\n",
       "      <td>0.9</td>\n",
       "      <td>2000</td>\n",
       "      <td>0.0</td>\n",
       "      <td>0.0</td>\n",
       "      <td>0.0</td>\n",
       "    </tr>\n",
       "    <tr>\n",
       "      <td>4</td>\n",
       "      <td>78</td>\n",
       "      <td>4</td>\n",
       "      <td>-6.0</td>\n",
       "      <td>36</td>\n",
       "      <td>2.3</td>\n",
       "      <td>2000</td>\n",
       "      <td>0.0</td>\n",
       "      <td>0.0</td>\n",
       "      <td>0.0</td>\n",
       "    </tr>\n",
       "  </tbody>\n",
       "</table>\n",
       "</div>"
      ],
      "text/plain": [
       "   Rented Bike Count  Hour  Temperature(°C)  Humidity(%)  Wind speed (m/s)  \\\n",
       "0                254     0             -5.2           37               2.2   \n",
       "1                204     1             -5.5           38               0.8   \n",
       "2                173     2             -6.0           39               1.0   \n",
       "3                107     3             -6.2           40               0.9   \n",
       "4                 78     4             -6.0           36               2.3   \n",
       "\n",
       "   Visibility (10m)  Solar Radiation (MJ/m2)  Rainfall(mm)  Snowfall (cm)  \n",
       "0              2000                      0.0           0.0            0.0  \n",
       "1              2000                      0.0           0.0            0.0  \n",
       "2              2000                      0.0           0.0            0.0  \n",
       "3              2000                      0.0           0.0            0.0  \n",
       "4              2000                      0.0           0.0            0.0  "
      ]
     },
     "execution_count": 45,
     "metadata": {},
     "output_type": "execute_result"
    }
   ],
   "source": [
    "num_data1.head()"
   ]
  },
  {
   "cell_type": "code",
   "execution_count": 46,
   "metadata": {},
   "outputs": [
    {
     "data": {
      "text/plain": [
       "<matplotlib.axes._subplots.AxesSubplot at 0xbd14048>"
      ]
     },
     "execution_count": 46,
     "metadata": {},
     "output_type": "execute_result"
    },
    {
     "data": {
      "image/png": "[encoded data removed]",
      "text/plain": [
       "<Figure size 1080x576 with 2 Axes>"
      ]
     },
     "metadata": {
      "needs_background": "light"
     },
     "output_type": "display_data"
    }
   ],
   "source": [
    "plt.figure(figsize=[15,8])\n",
    "\n",
    "corr_v1=num_data1.corr(method='spearman')\n",
    "corr_v1\n",
    "sns.heatmap(corr_v1,annot=True,fmt='0.2f',vmax=1,vmin=-1)"
   ]
  },
  {
   "cell_type": "code",
   "execution_count": null,
   "metadata": {},
   "outputs": [],
   "source": []
  },
  {
   "cell_type": "code",
   "execution_count": 47,
   "metadata": {},
   "outputs": [
    {
     "data": {
      "text/html": [
       "<div>\n",
       "<style scoped>\n",
       "    .dataframe tbody tr th:only-of-type {\n",
       "        vertical-align: middle;\n",
       "    }\n",
       "\n",
       "    .dataframe tbody tr th {\n",
       "        vertical-align: top;\n",
       "    }\n",
       "\n",
       "    .dataframe thead th {\n",
       "        text-align: right;\n",
       "    }\n",
       "</style>\n",
       "<table border=\"1\" class=\"dataframe\">\n",
       "  <thead>\n",
       "    <tr style=\"text-align: right;\">\n",
       "      <th></th>\n",
       "      <th>Rented Bike Count</th>\n",
       "      <th>Hour</th>\n",
       "      <th>Temperature(°C)</th>\n",
       "      <th>Humidity(%)</th>\n",
       "      <th>Wind speed (m/s)</th>\n",
       "      <th>Visibility (10m)</th>\n",
       "      <th>Solar Radiation (MJ/m2)</th>\n",
       "      <th>Rainfall(mm)</th>\n",
       "      <th>Snowfall (cm)</th>\n",
       "    </tr>\n",
       "  </thead>\n",
       "  <tbody>\n",
       "    <tr>\n",
       "      <td>0</td>\n",
       "      <td>254</td>\n",
       "      <td>0</td>\n",
       "      <td>-5.2</td>\n",
       "      <td>37</td>\n",
       "      <td>2.2</td>\n",
       "      <td>2000</td>\n",
       "      <td>0.0</td>\n",
       "      <td>0.0</td>\n",
       "      <td>0.0</td>\n",
       "    </tr>\n",
       "    <tr>\n",
       "      <td>1</td>\n",
       "      <td>204</td>\n",
       "      <td>1</td>\n",
       "      <td>-5.5</td>\n",
       "      <td>38</td>\n",
       "      <td>0.8</td>\n",
       "      <td>2000</td>\n",
       "      <td>0.0</td>\n",
       "      <td>0.0</td>\n",
       "      <td>0.0</td>\n",
       "    </tr>\n",
       "    <tr>\n",
       "      <td>2</td>\n",
       "      <td>173</td>\n",
       "      <td>2</td>\n",
       "      <td>-6.0</td>\n",
       "      <td>39</td>\n",
       "      <td>1.0</td>\n",
       "      <td>2000</td>\n",
       "      <td>0.0</td>\n",
       "      <td>0.0</td>\n",
       "      <td>0.0</td>\n",
       "    </tr>\n",
       "    <tr>\n",
       "      <td>3</td>\n",
       "      <td>107</td>\n",
       "      <td>3</td>\n",
       "      <td>-6.2</td>\n",
       "      <td>40</td>\n",
       "      <td>0.9</td>\n",
       "      <td>2000</td>\n",
       "      <td>0.0</td>\n",
       "      <td>0.0</td>\n",
       "      <td>0.0</td>\n",
       "    </tr>\n",
       "    <tr>\n",
       "      <td>4</td>\n",
       "      <td>78</td>\n",
       "      <td>4</td>\n",
       "      <td>-6.0</td>\n",
       "      <td>36</td>\n",
       "      <td>2.3</td>\n",
       "      <td>2000</td>\n",
       "      <td>0.0</td>\n",
       "      <td>0.0</td>\n",
       "      <td>0.0</td>\n",
       "    </tr>\n",
       "  </tbody>\n",
       "</table>\n",
       "</div>"
      ],
      "text/plain": [
       "   Rented Bike Count  Hour  Temperature(°C)  Humidity(%)  Wind speed (m/s)  \\\n",
       "0                254     0             -5.2           37               2.2   \n",
       "1                204     1             -5.5           38               0.8   \n",
       "2                173     2             -6.0           39               1.0   \n",
       "3                107     3             -6.2           40               0.9   \n",
       "4                 78     4             -6.0           36               2.3   \n",
       "\n",
       "   Visibility (10m)  Solar Radiation (MJ/m2)  Rainfall(mm)  Snowfall (cm)  \n",
       "0              2000                      0.0           0.0            0.0  \n",
       "1              2000                      0.0           0.0            0.0  \n",
       "2              2000                      0.0           0.0            0.0  \n",
       "3              2000                      0.0           0.0            0.0  \n",
       "4              2000                      0.0           0.0            0.0  "
      ]
     },
     "execution_count": 47,
     "metadata": {},
     "output_type": "execute_result"
    }
   ],
   "source": [
    "num_data1.head()"
   ]
  },
  {
   "cell_type": "code",
   "execution_count": null,
   "metadata": {},
   "outputs": [],
   "source": []
  },
  {
   "cell_type": "code",
   "execution_count": null,
   "metadata": {},
   "outputs": [],
   "source": []
  },
  {
   "cell_type": "code",
   "execution_count": null,
   "metadata": {},
   "outputs": [],
   "source": []
  },
  {
   "cell_type": "code",
   "execution_count": 48,
   "metadata": {},
   "outputs": [],
   "source": [
    "datav1=pd.concat([cat_data1,num_data1],1)"
   ]
  },
  {
   "cell_type": "code",
   "execution_count": null,
   "metadata": {},
   "outputs": [],
   "source": []
  },
  {
   "cell_type": "code",
   "execution_count": 49,
   "metadata": {},
   "outputs": [],
   "source": [
    "import datetime as dt\n",
    "datav1['Date']=datav1['Date'].map(dt.datetime.toordinal)"
   ]
  },
  {
   "cell_type": "code",
   "execution_count": 50,
   "metadata": {},
   "outputs": [
    {
     "data": {
      "text/html": [
       "<div>\n",
       "<style scoped>\n",
       "    .dataframe tbody tr th:only-of-type {\n",
       "        vertical-align: middle;\n",
       "    }\n",
       "\n",
       "    .dataframe tbody tr th {\n",
       "        vertical-align: top;\n",
       "    }\n",
       "\n",
       "    .dataframe thead th {\n",
       "        text-align: right;\n",
       "    }\n",
       "</style>\n",
       "<table border=\"1\" class=\"dataframe\">\n",
       "  <thead>\n",
       "    <tr style=\"text-align: right;\">\n",
       "      <th></th>\n",
       "      <th>Date</th>\n",
       "      <th>Seasons</th>\n",
       "      <th>Holiday_No Holiday</th>\n",
       "      <th>Functioning Day_Yes</th>\n",
       "      <th>Rented Bike Count</th>\n",
       "      <th>Hour</th>\n",
       "      <th>Temperature(°C)</th>\n",
       "      <th>Humidity(%)</th>\n",
       "      <th>Wind speed (m/s)</th>\n",
       "      <th>Visibility (10m)</th>\n",
       "      <th>Solar Radiation (MJ/m2)</th>\n",
       "      <th>Rainfall(mm)</th>\n",
       "      <th>Snowfall (cm)</th>\n",
       "    </tr>\n",
       "  </thead>\n",
       "  <tbody>\n",
       "    <tr>\n",
       "      <td>0</td>\n",
       "      <td>736664</td>\n",
       "      <td>0</td>\n",
       "      <td>1</td>\n",
       "      <td>1</td>\n",
       "      <td>254</td>\n",
       "      <td>0</td>\n",
       "      <td>-5.2</td>\n",
       "      <td>37</td>\n",
       "      <td>2.2</td>\n",
       "      <td>2000</td>\n",
       "      <td>0.0</td>\n",
       "      <td>0.0</td>\n",
       "      <td>0.0</td>\n",
       "    </tr>\n",
       "    <tr>\n",
       "      <td>1</td>\n",
       "      <td>736664</td>\n",
       "      <td>0</td>\n",
       "      <td>1</td>\n",
       "      <td>1</td>\n",
       "      <td>204</td>\n",
       "      <td>1</td>\n",
       "      <td>-5.5</td>\n",
       "      <td>38</td>\n",
       "      <td>0.8</td>\n",
       "      <td>2000</td>\n",
       "      <td>0.0</td>\n",
       "      <td>0.0</td>\n",
       "      <td>0.0</td>\n",
       "    </tr>\n",
       "    <tr>\n",
       "      <td>2</td>\n",
       "      <td>736664</td>\n",
       "      <td>0</td>\n",
       "      <td>1</td>\n",
       "      <td>1</td>\n",
       "      <td>173</td>\n",
       "      <td>2</td>\n",
       "      <td>-6.0</td>\n",
       "      <td>39</td>\n",
       "      <td>1.0</td>\n",
       "      <td>2000</td>\n",
       "      <td>0.0</td>\n",
       "      <td>0.0</td>\n",
       "      <td>0.0</td>\n",
       "    </tr>\n",
       "    <tr>\n",
       "      <td>3</td>\n",
       "      <td>736664</td>\n",
       "      <td>0</td>\n",
       "      <td>1</td>\n",
       "      <td>1</td>\n",
       "      <td>107</td>\n",
       "      <td>3</td>\n",
       "      <td>-6.2</td>\n",
       "      <td>40</td>\n",
       "      <td>0.9</td>\n",
       "      <td>2000</td>\n",
       "      <td>0.0</td>\n",
       "      <td>0.0</td>\n",
       "      <td>0.0</td>\n",
       "    </tr>\n",
       "    <tr>\n",
       "      <td>4</td>\n",
       "      <td>736664</td>\n",
       "      <td>0</td>\n",
       "      <td>1</td>\n",
       "      <td>1</td>\n",
       "      <td>78</td>\n",
       "      <td>4</td>\n",
       "      <td>-6.0</td>\n",
       "      <td>36</td>\n",
       "      <td>2.3</td>\n",
       "      <td>2000</td>\n",
       "      <td>0.0</td>\n",
       "      <td>0.0</td>\n",
       "      <td>0.0</td>\n",
       "    </tr>\n",
       "  </tbody>\n",
       "</table>\n",
       "</div>"
      ],
      "text/plain": [
       "     Date  Seasons  Holiday_No Holiday  Functioning Day_Yes  \\\n",
       "0  736664        0                   1                    1   \n",
       "1  736664        0                   1                    1   \n",
       "2  736664        0                   1                    1   \n",
       "3  736664        0                   1                    1   \n",
       "4  736664        0                   1                    1   \n",
       "\n",
       "   Rented Bike Count  Hour  Temperature(°C)  Humidity(%)  Wind speed (m/s)  \\\n",
       "0                254     0             -5.2           37               2.2   \n",
       "1                204     1             -5.5           38               0.8   \n",
       "2                173     2             -6.0           39               1.0   \n",
       "3                107     3             -6.2           40               0.9   \n",
       "4                 78     4             -6.0           36               2.3   \n",
       "\n",
       "   Visibility (10m)  Solar Radiation (MJ/m2)  Rainfall(mm)  Snowfall (cm)  \n",
       "0              2000                      0.0           0.0            0.0  \n",
       "1              2000                      0.0           0.0            0.0  \n",
       "2              2000                      0.0           0.0            0.0  \n",
       "3              2000                      0.0           0.0            0.0  \n",
       "4              2000                      0.0           0.0            0.0  "
      ]
     },
     "execution_count": 50,
     "metadata": {},
     "output_type": "execute_result"
    }
   ],
   "source": [
    "datav1.head()"
   ]
  },
  {
   "cell_type": "code",
   "execution_count": 51,
   "metadata": {},
   "outputs": [],
   "source": [
    "Q1 = datav1.quantile(0.25)\n",
    "\n",
    "# calculate the third quartile\n",
    "Q3 = datav1.quantile(0.75)\n",
    "\n",
    "# The Interquartile Range (IQR) is defined as the difference between the third and first quartile\n",
    "# calculate IQR for each numeric variable\n",
    "IQR = Q3 - Q1\n",
    "\n",
    "# retrieve the dataframe without the outliers\n",
    "# '~' returns the values that do not satisfy the given conditions \n",
    "# i.e. it returns values between the range [Q1-1.5*IQR, Q3+1.5*IQR]\n",
    "# '|' is used as 'OR' operator on multiple conditions   \n",
    "# 'any(axis=1)' checks the entire row for atleast one 'True' entry (the rows represent outliers in the data)\n",
    "datav1 = datav1[~((datav1 < (Q1 - 1.5 * IQR)) | (datav1 > (Q3 + 1.5 * IQR))).any(axis=1)]\n",
    "\n",
    "# check the shape of the data\n"
   ]
  },
  {
   "cell_type": "code",
   "execution_count": 52,
   "metadata": {},
   "outputs": [
    {
     "data": {
      "text/plain": [
       "(6339, 13)"
      ]
     },
     "execution_count": 52,
     "metadata": {},
     "output_type": "execute_result"
    }
   ],
   "source": [
    "datav1.shape"
   ]
  },
  {
   "cell_type": "code",
   "execution_count": 53,
   "metadata": {},
   "outputs": [
    {
     "data": {
      "image/png": "[encoded data removed]",
      "text/plain": [
       "<Figure size 432x288 with 1 Axes>"
      ]
     },
     "metadata": {
      "needs_background": "light"
     },
     "output_type": "display_data"
    },
    {
     "data": {
      "image/png": "[encoded data removed]",
      "text/plain": [
       "<Figure size 432x288 with 1 Axes>"
      ]
     },
     "metadata": {
      "needs_background": "light"
     },
     "output_type": "display_data"
    },
    {
     "data": {
      "image/png": "[encoded data removed]",
      "text/plain": [
       "<Figure size 432x288 with 1 Axes>"
      ]
     },
     "metadata": {
      "needs_background": "light"
     },
     "output_type": "display_data"
    },
    {
     "data": {
      "image/png": "[encoded data removed]",
      "text/plain": [
       "<Figure size 432x288 with 1 Axes>"
      ]
     },
     "metadata": {
      "needs_background": "light"
     },
     "output_type": "display_data"
    },
    {
     "data": {
      "image/png": "[encoded data removed]",
      "text/plain": [
       "<Figure size 432x288 with 1 Axes>"
      ]
     },
     "metadata": {
      "needs_background": "light"
     },
     "output_type": "display_data"
    },
    {
     "data": {
      "image/png": "[encoded data removed]",
      "text/plain": [
       "<Figure size 432x288 with 1 Axes>"
      ]
     },
     "metadata": {
      "needs_background": "light"
     },
     "output_type": "display_data"
    },
    {
     "data": {
      "image/png": "[encoded data removed]",
      "text/plain": [
       "<Figure size 432x288 with 1 Axes>"
      ]
     },
     "metadata": {
      "needs_background": "light"
     },
     "output_type": "display_data"
    },
    {
     "data": {
      "image/png": "[encoded data removed]",
      "text/plain": [
       "<Figure size 432x288 with 1 Axes>"
      ]
     },
     "metadata": {
      "needs_background": "light"
     },
     "output_type": "display_data"
    },
    {
     "data": {
      "image/png": "[encoded data removed]",
      "text/plain": [
       "<Figure size 432x288 with 1 Axes>"
      ]
     },
     "metadata": {
      "needs_background": "light"
     },
     "output_type": "display_data"
    },
    {
     "data": {
      "image/png": "[encoded data removed]",
      "text/plain": [
       "<Figure size 432x288 with 1 Axes>"
      ]
     },
     "metadata": {
      "needs_background": "light"
     },
     "output_type": "display_data"
    }
   ],
   "source": [
    "for loc in range(10):\n",
    "    sns.boxplot(datav1.iloc[:,loc])\n",
    "    plt.xticks(rotation=90)\n",
    "    plt.show()\n",
    "%matplotlib inline"
   ]
  },
  {
   "cell_type": "code",
   "execution_count": 54,
   "metadata": {
    "scrolled": true
   },
   "outputs": [
    {
     "data": {
      "text/plain": [
       "Date                       105.375714\n",
       "Seasons                      1.109939\n",
       "Holiday_No Holiday           0.000000\n",
       "Functioning Day_Yes          0.000000\n",
       "Rented Bike Count          597.145961\n",
       "Hour                         7.231924\n",
       "Temperature(°C)             11.616495\n",
       "Humidity(%)                 18.720054\n",
       "Wind speed (m/s)             0.925041\n",
       "Visibility (10m)           588.336363\n",
       "Solar Radiation (MJ/m2)      0.648666\n",
       "Rainfall(mm)                 0.000000\n",
       "Snowfall (cm)                0.000000\n",
       "dtype: float64"
      ]
     },
     "execution_count": 54,
     "metadata": {},
     "output_type": "execute_result"
    }
   ],
   "source": [
    "datav1.std()"
   ]
  },
  {
   "cell_type": "code",
   "execution_count": 55,
   "metadata": {},
   "outputs": [],
   "source": [
    "datav2=datav1.copy()"
   ]
  },
  {
   "cell_type": "code",
   "execution_count": 56,
   "metadata": {},
   "outputs": [],
   "source": [
    "datav1=datav1.drop(['Snowfall (cm)','Rainfall(mm)','Visibility (10m)'],axis=1)"
   ]
  },
  {
   "cell_type": "code",
   "execution_count": 57,
   "metadata": {},
   "outputs": [
    {
     "data": {
      "text/html": [
       "<div>\n",
       "<style scoped>\n",
       "    .dataframe tbody tr th:only-of-type {\n",
       "        vertical-align: middle;\n",
       "    }\n",
       "\n",
       "    .dataframe tbody tr th {\n",
       "        vertical-align: top;\n",
       "    }\n",
       "\n",
       "    .dataframe thead th {\n",
       "        text-align: right;\n",
       "    }\n",
       "</style>\n",
       "<table border=\"1\" class=\"dataframe\">\n",
       "  <thead>\n",
       "    <tr style=\"text-align: right;\">\n",
       "      <th></th>\n",
       "      <th>Date</th>\n",
       "      <th>Seasons</th>\n",
       "      <th>Holiday_No Holiday</th>\n",
       "      <th>Functioning Day_Yes</th>\n",
       "      <th>Rented Bike Count</th>\n",
       "      <th>Hour</th>\n",
       "      <th>Temperature(°C)</th>\n",
       "      <th>Humidity(%)</th>\n",
       "      <th>Wind speed (m/s)</th>\n",
       "      <th>Solar Radiation (MJ/m2)</th>\n",
       "    </tr>\n",
       "  </thead>\n",
       "  <tbody>\n",
       "    <tr>\n",
       "      <td>0</td>\n",
       "      <td>736664</td>\n",
       "      <td>0</td>\n",
       "      <td>1</td>\n",
       "      <td>1</td>\n",
       "      <td>254</td>\n",
       "      <td>0</td>\n",
       "      <td>-5.2</td>\n",
       "      <td>37</td>\n",
       "      <td>2.2</td>\n",
       "      <td>0.0</td>\n",
       "    </tr>\n",
       "    <tr>\n",
       "      <td>1</td>\n",
       "      <td>736664</td>\n",
       "      <td>0</td>\n",
       "      <td>1</td>\n",
       "      <td>1</td>\n",
       "      <td>204</td>\n",
       "      <td>1</td>\n",
       "      <td>-5.5</td>\n",
       "      <td>38</td>\n",
       "      <td>0.8</td>\n",
       "      <td>0.0</td>\n",
       "    </tr>\n",
       "    <tr>\n",
       "      <td>2</td>\n",
       "      <td>736664</td>\n",
       "      <td>0</td>\n",
       "      <td>1</td>\n",
       "      <td>1</td>\n",
       "      <td>173</td>\n",
       "      <td>2</td>\n",
       "      <td>-6.0</td>\n",
       "      <td>39</td>\n",
       "      <td>1.0</td>\n",
       "      <td>0.0</td>\n",
       "    </tr>\n",
       "    <tr>\n",
       "      <td>3</td>\n",
       "      <td>736664</td>\n",
       "      <td>0</td>\n",
       "      <td>1</td>\n",
       "      <td>1</td>\n",
       "      <td>107</td>\n",
       "      <td>3</td>\n",
       "      <td>-6.2</td>\n",
       "      <td>40</td>\n",
       "      <td>0.9</td>\n",
       "      <td>0.0</td>\n",
       "    </tr>\n",
       "    <tr>\n",
       "      <td>4</td>\n",
       "      <td>736664</td>\n",
       "      <td>0</td>\n",
       "      <td>1</td>\n",
       "      <td>1</td>\n",
       "      <td>78</td>\n",
       "      <td>4</td>\n",
       "      <td>-6.0</td>\n",
       "      <td>36</td>\n",
       "      <td>2.3</td>\n",
       "      <td>0.0</td>\n",
       "    </tr>\n",
       "  </tbody>\n",
       "</table>\n",
       "</div>"
      ],
      "text/plain": [
       "     Date  Seasons  Holiday_No Holiday  Functioning Day_Yes  \\\n",
       "0  736664        0                   1                    1   \n",
       "1  736664        0                   1                    1   \n",
       "2  736664        0                   1                    1   \n",
       "3  736664        0                   1                    1   \n",
       "4  736664        0                   1                    1   \n",
       "\n",
       "   Rented Bike Count  Hour  Temperature(°C)  Humidity(%)  Wind speed (m/s)  \\\n",
       "0                254     0             -5.2           37               2.2   \n",
       "1                204     1             -5.5           38               0.8   \n",
       "2                173     2             -6.0           39               1.0   \n",
       "3                107     3             -6.2           40               0.9   \n",
       "4                 78     4             -6.0           36               2.3   \n",
       "\n",
       "   Solar Radiation (MJ/m2)  \n",
       "0                      0.0  \n",
       "1                      0.0  \n",
       "2                      0.0  \n",
       "3                      0.0  \n",
       "4                      0.0  "
      ]
     },
     "execution_count": 57,
     "metadata": {},
     "output_type": "execute_result"
    }
   ],
   "source": [
    "datav1.head()"
   ]
  },
  {
   "cell_type": "code",
   "execution_count": 58,
   "metadata": {
    "scrolled": true
   },
   "outputs": [
    {
     "name": "stderr",
     "output_type": "stream",
     "text": [
      "D:\\anaconda\\lib\\site-packages\\numpy\\core\\fromnumeric.py:2389: FutureWarning: Method .ptp is deprecated and will be removed in a future version. Use numpy.ptp instead.\n",
      "  return ptp(axis=axis, out=out, **kwargs)\n"
     ]
    },
    {
     "data": {
      "text/html": [
       "<table class=\"simpletable\">\n",
       "<caption>OLS Regression Results</caption>\n",
       "<tr>\n",
       "  <th>Dep. Variable:</th>    <td>Rented Bike Count</td> <th>  R-squared:         </th> <td>   0.550</td> \n",
       "</tr>\n",
       "<tr>\n",
       "  <th>Model:</th>                   <td>OLS</td>        <th>  Adj. R-squared:    </th> <td>   0.549</td> \n",
       "</tr>\n",
       "<tr>\n",
       "  <th>Method:</th>             <td>Least Squares</td>   <th>  F-statistic:       </th> <td>   1105.</td> \n",
       "</tr>\n",
       "<tr>\n",
       "  <th>Date:</th>             <td>Sat, 05 Sep 2020</td>  <th>  Prob (F-statistic):</th>  <td>  0.00</td>  \n",
       "</tr>\n",
       "<tr>\n",
       "  <th>Time:</th>                 <td>17:15:17</td>      <th>  Log-Likelihood:    </th> <td> -46984.</td> \n",
       "</tr>\n",
       "<tr>\n",
       "  <th>No. Observations:</th>      <td>  6339</td>       <th>  AIC:               </th> <td>9.398e+04</td>\n",
       "</tr>\n",
       "<tr>\n",
       "  <th>Df Residuals:</th>          <td>  6331</td>       <th>  BIC:               </th> <td>9.404e+04</td>\n",
       "</tr>\n",
       "<tr>\n",
       "  <th>Df Model:</th>              <td>     7</td>       <th>                     </th>     <td> </td>    \n",
       "</tr>\n",
       "<tr>\n",
       "  <th>Covariance Type:</th>      <td>nonrobust</td>     <th>                     </th>     <td> </td>    \n",
       "</tr>\n",
       "</table>\n",
       "<table class=\"simpletable\">\n",
       "<tr>\n",
       "             <td></td>                <th>coef</th>     <th>std err</th>      <th>t</th>      <th>P>|t|</th>  <th>[0.025</th>    <th>0.975]</th>  \n",
       "</tr>\n",
       "<tr>\n",
       "  <th>Date</th>                    <td>   -0.6282</td> <td>    0.140</td> <td>   -4.476</td> <td> 0.000</td> <td>   -0.903</td> <td>   -0.353</td>\n",
       "</tr>\n",
       "<tr>\n",
       "  <th>Seasons</th>                 <td>  170.7892</td> <td>   13.964</td> <td>   12.231</td> <td> 0.000</td> <td>  143.416</td> <td>  198.163</td>\n",
       "</tr>\n",
       "<tr>\n",
       "  <th>Holiday_No Holiday</th>      <td> 2.315e+05</td> <td> 5.17e+04</td> <td>    4.478</td> <td> 0.000</td> <td>  1.3e+05</td> <td> 3.33e+05</td>\n",
       "</tr>\n",
       "<tr>\n",
       "  <th>Functioning Day_Yes</th>     <td> 2.315e+05</td> <td> 5.17e+04</td> <td>    4.478</td> <td> 0.000</td> <td>  1.3e+05</td> <td> 3.33e+05</td>\n",
       "</tr>\n",
       "<tr>\n",
       "  <th>Hour</th>                    <td>   29.9485</td> <td>    0.756</td> <td>   39.595</td> <td> 0.000</td> <td>   28.466</td> <td>   31.431</td>\n",
       "</tr>\n",
       "<tr>\n",
       "  <th>Temperature(°C)</th>         <td>   24.6054</td> <td>    0.585</td> <td>   42.065</td> <td> 0.000</td> <td>   23.459</td> <td>   25.752</td>\n",
       "</tr>\n",
       "<tr>\n",
       "  <th>Humidity(%)</th>             <td>   -5.8952</td> <td>    0.334</td> <td>  -17.639</td> <td> 0.000</td> <td>   -6.550</td> <td>   -5.240</td>\n",
       "</tr>\n",
       "<tr>\n",
       "  <th>Wind speed (m/s)</th>        <td>   20.0682</td> <td>    6.107</td> <td>    3.286</td> <td> 0.001</td> <td>    8.096</td> <td>   32.041</td>\n",
       "</tr>\n",
       "<tr>\n",
       "  <th>Solar Radiation (MJ/m2)</th> <td>  -35.7596</td> <td>    9.502</td> <td>   -3.763</td> <td> 0.000</td> <td>  -54.387</td> <td>  -17.132</td>\n",
       "</tr>\n",
       "</table>\n",
       "<table class=\"simpletable\">\n",
       "<tr>\n",
       "  <th>Omnibus:</th>       <td>684.916</td> <th>  Durbin-Watson:     </th> <td>   0.629</td> \n",
       "</tr>\n",
       "<tr>\n",
       "  <th>Prob(Omnibus):</th> <td> 0.000</td>  <th>  Jarque-Bera (JB):  </th> <td>1018.054</td> \n",
       "</tr>\n",
       "<tr>\n",
       "  <th>Skew:</th>          <td> 0.810</td>  <th>  Prob(JB):          </th> <td>8.56e-222</td>\n",
       "</tr>\n",
       "<tr>\n",
       "  <th>Kurtosis:</th>      <td> 4.109</td>  <th>  Cond. No.          </th> <td>1.68e+21</td> \n",
       "</tr>\n",
       "</table><br/><br/>Warnings:<br/>[1] Standard Errors assume that the covariance matrix of the errors is correctly specified.<br/>[2] The smallest eigenvalue is 1.22e-27. This might indicate that there are<br/>strong multicollinearity problems or that the design matrix is singular."
      ],
      "text/plain": [
       "<class 'statsmodels.iolib.summary.Summary'>\n",
       "\"\"\"\n",
       "                            OLS Regression Results                            \n",
       "==============================================================================\n",
       "Dep. Variable:      Rented Bike Count   R-squared:                       0.550\n",
       "Model:                            OLS   Adj. R-squared:                  0.549\n",
       "Method:                 Least Squares   F-statistic:                     1105.\n",
       "Date:                Sat, 05 Sep 2020   Prob (F-statistic):               0.00\n",
       "Time:                        17:15:17   Log-Likelihood:                -46984.\n",
       "No. Observations:                6339   AIC:                         9.398e+04\n",
       "Df Residuals:                    6331   BIC:                         9.404e+04\n",
       "Df Model:                           7                                         \n",
       "Covariance Type:            nonrobust                                         \n",
       "===========================================================================================\n",
       "                              coef    std err          t      P>|t|      [0.025      0.975]\n",
       "-------------------------------------------------------------------------------------------\n",
       "Date                       -0.6282      0.140     -4.476      0.000      -0.903      -0.353\n",
       "Seasons                   170.7892     13.964     12.231      0.000     143.416     198.163\n",
       "Holiday_No Holiday       2.315e+05   5.17e+04      4.478      0.000     1.3e+05    3.33e+05\n",
       "Functioning Day_Yes      2.315e+05   5.17e+04      4.478      0.000     1.3e+05    3.33e+05\n",
       "Hour                       29.9485      0.756     39.595      0.000      28.466      31.431\n",
       "Temperature(°C)            24.6054      0.585     42.065      0.000      23.459      25.752\n",
       "Humidity(%)                -5.8952      0.334    -17.639      0.000      -6.550      -5.240\n",
       "Wind speed (m/s)           20.0682      6.107      3.286      0.001       8.096      32.041\n",
       "Solar Radiation (MJ/m2)   -35.7596      9.502     -3.763      0.000     -54.387     -17.132\n",
       "==============================================================================\n",
       "Omnibus:                      684.916   Durbin-Watson:                   0.629\n",
       "Prob(Omnibus):                  0.000   Jarque-Bera (JB):             1018.054\n",
       "Skew:                           0.810   Prob(JB):                    8.56e-222\n",
       "Kurtosis:                       4.109   Cond. No.                     1.68e+21\n",
       "==============================================================================\n",
       "\n",
       "Warnings:\n",
       "[1] Standard Errors assume that the covariance matrix of the errors is correctly specified.\n",
       "[2] The smallest eigenvalue is 1.22e-27. This might indicate that there are\n",
       "strong multicollinearity problems or that the design matrix is singular.\n",
       "\"\"\""
      ]
     },
     "execution_count": 58,
     "metadata": {},
     "output_type": "execute_result"
    }
   ],
   "source": [
    "import statsmodels.api as sm\n",
    "out=datav1['Rented Bike Count']\n",
    "inp=datav1.drop('Rented Bike Count',1)\n",
    "inpc=sm.add_constant(inp)\n",
    "ols=sm.OLS(out,inpc)\n",
    "ols_mod=ols.fit()\n",
    "ols_mod.summary()"
   ]
  },
  {
   "cell_type": "code",
   "execution_count": 60,
   "metadata": {
    "scrolled": true
   },
   "outputs": [
    {
     "data": {
      "text/html": [
       "<table class=\"simpletable\">\n",
       "<caption>OLS Regression Results</caption>\n",
       "<tr>\n",
       "  <th>Dep. Variable:</th>    <td>Rented Bike Count</td> <th>  R-squared:         </th> <td>   0.549</td> \n",
       "</tr>\n",
       "<tr>\n",
       "  <th>Model:</th>                   <td>OLS</td>        <th>  Adj. R-squared:    </th> <td>   0.548</td> \n",
       "</tr>\n",
       "<tr>\n",
       "  <th>Method:</th>             <td>Least Squares</td>   <th>  F-statistic:       </th> <td>   1282.</td> \n",
       "</tr>\n",
       "<tr>\n",
       "  <th>Date:</th>             <td>Sat, 05 Sep 2020</td>  <th>  Prob (F-statistic):</th>  <td>  0.00</td>  \n",
       "</tr>\n",
       "<tr>\n",
       "  <th>Time:</th>                 <td>17:16:54</td>      <th>  Log-Likelihood:    </th> <td> -46994.</td> \n",
       "</tr>\n",
       "<tr>\n",
       "  <th>No. Observations:</th>      <td>  6339</td>       <th>  AIC:               </th> <td>9.400e+04</td>\n",
       "</tr>\n",
       "<tr>\n",
       "  <th>Df Residuals:</th>          <td>  6332</td>       <th>  BIC:               </th> <td>9.405e+04</td>\n",
       "</tr>\n",
       "<tr>\n",
       "  <th>Df Model:</th>              <td>     6</td>       <th>                     </th>     <td> </td>    \n",
       "</tr>\n",
       "<tr>\n",
       "  <th>Covariance Type:</th>      <td>nonrobust</td>     <th>                     </th>     <td> </td>    \n",
       "</tr>\n",
       "</table>\n",
       "<table class=\"simpletable\">\n",
       "<tr>\n",
       "             <td></td>                <th>coef</th>     <th>std err</th>      <th>t</th>      <th>P>|t|</th>  <th>[0.025</th>    <th>0.975]</th>  \n",
       "</tr>\n",
       "<tr>\n",
       "  <th>Seasons</th>                 <td>  113.5492</td> <td>    5.616</td> <td>   20.218</td> <td> 0.000</td> <td>  102.539</td> <td>  124.559</td>\n",
       "</tr>\n",
       "<tr>\n",
       "  <th>Holiday_No Holiday</th>      <td>  120.4292</td> <td>   12.683</td> <td>    9.495</td> <td> 0.000</td> <td>   95.566</td> <td>  145.292</td>\n",
       "</tr>\n",
       "<tr>\n",
       "  <th>Functioning Day_Yes</th>     <td>  120.4292</td> <td>   12.683</td> <td>    9.495</td> <td> 0.000</td> <td>   95.566</td> <td>  145.292</td>\n",
       "</tr>\n",
       "<tr>\n",
       "  <th>Hour</th>                    <td>   29.9859</td> <td>    0.757</td> <td>   39.587</td> <td> 0.000</td> <td>   28.501</td> <td>   31.471</td>\n",
       "</tr>\n",
       "<tr>\n",
       "  <th>Temperature(°C)</th>         <td>   24.7091</td> <td>    0.585</td> <td>   42.212</td> <td> 0.000</td> <td>   23.562</td> <td>   25.857</td>\n",
       "</tr>\n",
       "<tr>\n",
       "  <th>Humidity(%)</th>             <td>   -5.7338</td> <td>    0.333</td> <td>  -17.231</td> <td> 0.000</td> <td>   -6.386</td> <td>   -5.081</td>\n",
       "</tr>\n",
       "<tr>\n",
       "  <th>Wind speed (m/s)</th>        <td>   20.0574</td> <td>    6.116</td> <td>    3.279</td> <td> 0.001</td> <td>    8.067</td> <td>   32.048</td>\n",
       "</tr>\n",
       "<tr>\n",
       "  <th>Solar Radiation (MJ/m2)</th> <td>  -35.5623</td> <td>    9.516</td> <td>   -3.737</td> <td> 0.000</td> <td>  -54.217</td> <td>  -16.907</td>\n",
       "</tr>\n",
       "</table>\n",
       "<table class=\"simpletable\">\n",
       "<tr>\n",
       "  <th>Omnibus:</th>       <td>668.587</td> <th>  Durbin-Watson:     </th> <td>   0.627</td> \n",
       "</tr>\n",
       "<tr>\n",
       "  <th>Prob(Omnibus):</th> <td> 0.000</td>  <th>  Jarque-Bera (JB):  </th> <td> 987.029</td> \n",
       "</tr>\n",
       "<tr>\n",
       "  <th>Skew:</th>          <td> 0.798</td>  <th>  Prob(JB):          </th> <td>4.67e-215</td>\n",
       "</tr>\n",
       "<tr>\n",
       "  <th>Kurtosis:</th>      <td> 4.092</td>  <th>  Cond. No.          </th> <td>3.93e+17</td> \n",
       "</tr>\n",
       "</table><br/><br/>Warnings:<br/>[1] Standard Errors assume that the covariance matrix of the errors is correctly specified.<br/>[2] The smallest eigenvalue is 1.64e-28. This might indicate that there are<br/>strong multicollinearity problems or that the design matrix is singular."
      ],
      "text/plain": [
       "<class 'statsmodels.iolib.summary.Summary'>\n",
       "\"\"\"\n",
       "                            OLS Regression Results                            \n",
       "==============================================================================\n",
       "Dep. Variable:      Rented Bike Count   R-squared:                       0.549\n",
       "Model:                            OLS   Adj. R-squared:                  0.548\n",
       "Method:                 Least Squares   F-statistic:                     1282.\n",
       "Date:                Sat, 05 Sep 2020   Prob (F-statistic):               0.00\n",
       "Time:                        17:16:54   Log-Likelihood:                -46994.\n",
       "No. Observations:                6339   AIC:                         9.400e+04\n",
       "Df Residuals:                    6332   BIC:                         9.405e+04\n",
       "Df Model:                           6                                         \n",
       "Covariance Type:            nonrobust                                         \n",
       "===========================================================================================\n",
       "                              coef    std err          t      P>|t|      [0.025      0.975]\n",
       "-------------------------------------------------------------------------------------------\n",
       "Seasons                   113.5492      5.616     20.218      0.000     102.539     124.559\n",
       "Holiday_No Holiday        120.4292     12.683      9.495      0.000      95.566     145.292\n",
       "Functioning Day_Yes       120.4292     12.683      9.495      0.000      95.566     145.292\n",
       "Hour                       29.9859      0.757     39.587      0.000      28.501      31.471\n",
       "Temperature(°C)            24.7091      0.585     42.212      0.000      23.562      25.857\n",
       "Humidity(%)                -5.7338      0.333    -17.231      0.000      -6.386      -5.081\n",
       "Wind speed (m/s)           20.0574      6.116      3.279      0.001       8.067      32.048\n",
       "Solar Radiation (MJ/m2)   -35.5623      9.516     -3.737      0.000     -54.217     -16.907\n",
       "==============================================================================\n",
       "Omnibus:                      668.587   Durbin-Watson:                   0.627\n",
       "Prob(Omnibus):                  0.000   Jarque-Bera (JB):              987.029\n",
       "Skew:                           0.798   Prob(JB):                    4.67e-215\n",
       "Kurtosis:                       4.092   Cond. No.                     3.93e+17\n",
       "==============================================================================\n",
       "\n",
       "Warnings:\n",
       "[1] Standard Errors assume that the covariance matrix of the errors is correctly specified.\n",
       "[2] The smallest eigenvalue is 1.64e-28. This might indicate that there are\n",
       "strong multicollinearity problems or that the design matrix is singular.\n",
       "\"\"\""
      ]
     },
     "execution_count": 60,
     "metadata": {},
     "output_type": "execute_result"
    }
   ],
   "source": [
    "import statsmodels.api as sm\n",
    "out=datav1['Rented Bike Count']\n",
    "inp=datav1.drop(['Rented Bike Count','Date'],1)\n",
    "inpc=sm.add_constant(inp)\n",
    "ols=sm.OLS(out,inpc)\n",
    "ols_mod=ols.fit()\n",
    "ols_mod.summary()"
   ]
  },
  {
   "cell_type": "code",
   "execution_count": 62,
   "metadata": {},
   "outputs": [],
   "source": [
    "import statsmodels.api as sm \n",
    "import pylab as py"
   ]
  },
  {
   "cell_type": "code",
   "execution_count": null,
   "metadata": {},
   "outputs": [],
   "source": []
  },
  {
   "cell_type": "code",
   "execution_count": 63,
   "metadata": {},
   "outputs": [
    {
     "data": {
      "image/png": "[encoded data removed]",
      "text/plain": [
       "<Figure size 432x288 with 1 Axes>"
      ]
     },
     "metadata": {
      "needs_background": "light"
     },
     "output_type": "display_data"
    }
   ],
   "source": [
    "sm.qqplot(ols_mod.resid, line ='r') \n",
    "py.show() \n"
   ]
  },
  {
   "cell_type": "code",
   "execution_count": 64,
   "metadata": {},
   "outputs": [],
   "source": [
    "from warnings import filterwarnings\n",
    "filterwarnings('ignore')\n"
   ]
  },
  {
   "cell_type": "code",
   "execution_count": 65,
   "metadata": {},
   "outputs": [],
   "source": [
    "import statsmodels\n",
    "import statsmodels.api as sm\n",
    "import statsmodels.stats.api as sms\n",
    "import statsmodels.formula.api as smf\n",
    "from statsmodels.tools.eval_measures import rmse\n",
    "from statsmodels.compat import lzip\n",
    "from statsmodels.stats.outliers_influence import variance_inflation_factor\n",
    "from statsmodels.stats.diagnostic import linear_rainbow\n",
    "import statsmodels.tsa.api as smt\n",
    "from statsmodels.graphics.gofplots import qqplot\n",
    "from statsmodels.stats.stattools import durbin_watson\n",
    "\n",
    "# 'SciPy' is used to perform scientific computations\n",
    "from scipy import stats\n",
    "from scipy.stats import shapiro\n",
    "\n",
    "# 'metrics' from sklearn is used for evaluating the model performance\n",
    "from sklearn.metrics import mean_absolute_error\n",
    "from sklearn.metrics import mean_squared_error\n"
   ]
  },
  {
   "cell_type": "code",
   "execution_count": 66,
   "metadata": {},
   "outputs": [],
   "source": [
    "datav1=datav1.drop('Date',1)"
   ]
  },
  {
   "cell_type": "code",
   "execution_count": 67,
   "metadata": {},
   "outputs": [
    {
     "data": {
      "text/html": [
       "<div>\n",
       "<style scoped>\n",
       "    .dataframe tbody tr th:only-of-type {\n",
       "        vertical-align: middle;\n",
       "    }\n",
       "\n",
       "    .dataframe tbody tr th {\n",
       "        vertical-align: top;\n",
       "    }\n",
       "\n",
       "    .dataframe thead th {\n",
       "        text-align: right;\n",
       "    }\n",
       "</style>\n",
       "<table border=\"1\" class=\"dataframe\">\n",
       "  <thead>\n",
       "    <tr style=\"text-align: right;\">\n",
       "      <th></th>\n",
       "      <th>Seasons</th>\n",
       "      <th>Holiday_No Holiday</th>\n",
       "      <th>Functioning Day_Yes</th>\n",
       "      <th>Rented Bike Count</th>\n",
       "      <th>Hour</th>\n",
       "      <th>Temperature(°C)</th>\n",
       "      <th>Humidity(%)</th>\n",
       "      <th>Wind speed (m/s)</th>\n",
       "      <th>Solar Radiation (MJ/m2)</th>\n",
       "    </tr>\n",
       "  </thead>\n",
       "  <tbody>\n",
       "    <tr>\n",
       "      <td>0</td>\n",
       "      <td>0</td>\n",
       "      <td>1</td>\n",
       "      <td>1</td>\n",
       "      <td>254</td>\n",
       "      <td>0</td>\n",
       "      <td>-5.2</td>\n",
       "      <td>37</td>\n",
       "      <td>2.2</td>\n",
       "      <td>0.0</td>\n",
       "    </tr>\n",
       "    <tr>\n",
       "      <td>1</td>\n",
       "      <td>0</td>\n",
       "      <td>1</td>\n",
       "      <td>1</td>\n",
       "      <td>204</td>\n",
       "      <td>1</td>\n",
       "      <td>-5.5</td>\n",
       "      <td>38</td>\n",
       "      <td>0.8</td>\n",
       "      <td>0.0</td>\n",
       "    </tr>\n",
       "    <tr>\n",
       "      <td>2</td>\n",
       "      <td>0</td>\n",
       "      <td>1</td>\n",
       "      <td>1</td>\n",
       "      <td>173</td>\n",
       "      <td>2</td>\n",
       "      <td>-6.0</td>\n",
       "      <td>39</td>\n",
       "      <td>1.0</td>\n",
       "      <td>0.0</td>\n",
       "    </tr>\n",
       "    <tr>\n",
       "      <td>3</td>\n",
       "      <td>0</td>\n",
       "      <td>1</td>\n",
       "      <td>1</td>\n",
       "      <td>107</td>\n",
       "      <td>3</td>\n",
       "      <td>-6.2</td>\n",
       "      <td>40</td>\n",
       "      <td>0.9</td>\n",
       "      <td>0.0</td>\n",
       "    </tr>\n",
       "    <tr>\n",
       "      <td>4</td>\n",
       "      <td>0</td>\n",
       "      <td>1</td>\n",
       "      <td>1</td>\n",
       "      <td>78</td>\n",
       "      <td>4</td>\n",
       "      <td>-6.0</td>\n",
       "      <td>36</td>\n",
       "      <td>2.3</td>\n",
       "      <td>0.0</td>\n",
       "    </tr>\n",
       "  </tbody>\n",
       "</table>\n",
       "</div>"
      ],
      "text/plain": [
       "   Seasons  Holiday_No Holiday  Functioning Day_Yes  Rented Bike Count  Hour  \\\n",
       "0        0                   1                    1                254     0   \n",
       "1        0                   1                    1                204     1   \n",
       "2        0                   1                    1                173     2   \n",
       "3        0                   1                    1                107     3   \n",
       "4        0                   1                    1                 78     4   \n",
       "\n",
       "   Temperature(°C)  Humidity(%)  Wind speed (m/s)  Solar Radiation (MJ/m2)  \n",
       "0             -5.2           37               2.2                      0.0  \n",
       "1             -5.5           38               0.8                      0.0  \n",
       "2             -6.0           39               1.0                      0.0  \n",
       "3             -6.2           40               0.9                      0.0  \n",
       "4             -6.0           36               2.3                      0.0  "
      ]
     },
     "execution_count": 67,
     "metadata": {},
     "output_type": "execute_result"
    }
   ],
   "source": [
    "datav1.head()"
   ]
  },
  {
   "cell_type": "code",
   "execution_count": 68,
   "metadata": {},
   "outputs": [],
   "source": [
    "dataf1=datav1.copy()"
   ]
  },
  {
   "cell_type": "code",
   "execution_count": 70,
   "metadata": {},
   "outputs": [],
   "source": [
    "from sklearn.model_selection import train_test_split"
   ]
  },
  {
   "cell_type": "code",
   "execution_count": 71,
   "metadata": {},
   "outputs": [],
   "source": [
    "X=dataf1.drop('Rented Bike Count',1)"
   ]
  },
  {
   "cell_type": "code",
   "execution_count": 73,
   "metadata": {},
   "outputs": [],
   "source": [
    "y=dataf1['Rented Bike Count']\n",
    "X=sm.add_constant(X)\n",
    "X_train,X_test,y_train,y_test=train_test_split(X,y,random_state=1,test_size=0.2)"
   ]
  },
  {
   "cell_type": "code",
   "execution_count": 74,
   "metadata": {},
   "outputs": [
    {
     "data": {
      "text/plain": [
       "1176    14.525839\n",
       "2742     8.426150\n",
       "7047    26.381812\n",
       "65      23.345235\n",
       "7438    38.196859\n",
       "Name: Rented Bike Count, dtype: float64"
      ]
     },
     "execution_count": 74,
     "metadata": {},
     "output_type": "execute_result"
    }
   ],
   "source": [
    "np.sqrt(y_train).head()"
   ]
  },
  {
   "cell_type": "code",
   "execution_count": 75,
   "metadata": {},
   "outputs": [
    {
     "data": {
      "text/plain": [
       "1176    0.004739\n",
       "2742    0.014085\n",
       "7047    0.001437\n",
       "65      0.001835\n",
       "7438    0.000685\n",
       "Name: Rented Bike Count, dtype: float64"
      ]
     },
     "execution_count": 75,
     "metadata": {},
     "output_type": "execute_result"
    }
   ],
   "source": [
    "(1/y_train).head()"
   ]
  },
  {
   "cell_type": "code",
   "execution_count": 77,
   "metadata": {},
   "outputs": [
    {
     "data": {
      "text/plain": [
       "1176    5.351858\n",
       "2742    4.262680\n",
       "7047    6.545350\n",
       "65      6.300786\n",
       "7438    7.285507\n",
       "Name: Rented Bike Count, dtype: float64"
      ]
     },
     "execution_count": 77,
     "metadata": {},
     "output_type": "execute_result"
    }
   ],
   "source": [
    "np.log(y_train).head()"
   ]
  },
  {
   "cell_type": "code",
   "execution_count": 106,
   "metadata": {},
   "outputs": [],
   "source": [
    "op=stats.boxcox(y_train)[0]"
   ]
  },
  {
   "cell_type": "code",
   "execution_count": 84,
   "metadata": {},
   "outputs": [
    {
     "name": "stdout",
     "output_type": "stream",
     "text": [
      "                            OLS Regression Results                            \n",
      "==============================================================================\n",
      "Dep. Variable:      Rented Bike Count   R-squared:                       0.549\n",
      "Model:                            OLS   Adj. R-squared:                  0.549\n",
      "Method:                 Least Squares   F-statistic:                     1028.\n",
      "Date:                Sat, 05 Sep 2020   Prob (F-statistic):               0.00\n",
      "Time:                        17:35:28   Log-Likelihood:                -37608.\n",
      "No. Observations:                5071   AIC:                         7.523e+04\n",
      "Df Residuals:                    5064   BIC:                         7.528e+04\n",
      "Df Model:                           6                                         \n",
      "Covariance Type:            nonrobust                                         \n",
      "===========================================================================================\n",
      "                              coef    std err          t      P>|t|      [0.025      0.975]\n",
      "-------------------------------------------------------------------------------------------\n",
      "Seasons                   113.4659      6.275     18.083      0.000     101.165     125.767\n",
      "Holiday_No Holiday        123.1523     14.156      8.700      0.000      95.401     150.903\n",
      "Functioning Day_Yes       123.1523     14.156      8.700      0.000      95.401     150.903\n",
      "Hour                       30.1114      0.849     35.473      0.000      28.447      31.775\n",
      "Temperature(°C)            24.9055      0.655     38.022      0.000      23.621      26.190\n",
      "Humidity(%)                -5.8354      0.370    -15.782      0.000      -6.560      -5.111\n",
      "Wind speed (m/s)           18.2634      6.900      2.647      0.008       4.736      31.791\n",
      "Solar Radiation (MJ/m2)   -38.1937     10.676     -3.577      0.000     -59.124     -17.263\n",
      "==============================================================================\n",
      "Omnibus:                      537.773   Durbin-Watson:                   1.986\n",
      "Prob(Omnibus):                  0.000   Jarque-Bera (JB):              791.837\n",
      "Skew:                           0.801   Prob(JB):                    1.13e-172\n",
      "Kurtosis:                       4.086   Cond. No.                     4.17e+17\n",
      "==============================================================================\n",
      "\n",
      "Warnings:\n",
      "[1] Standard Errors assume that the covariance matrix of the errors is correctly specified.\n",
      "[2] The smallest eigenvalue is 1.17e-28. This might indicate that there are\n",
      "strong multicollinearity problems or that the design matrix is singular.\n"
     ]
    }
   ],
   "source": [
    "MLR_model=sm.OLS(y_train,X_train).fit()\n",
    "print(MLR_model.summary())"
   ]
  },
  {
   "cell_type": "code",
   "execution_count": 85,
   "metadata": {},
   "outputs": [
    {
     "data": {
      "text/plain": [
       "<matplotlib.axes._subplots.AxesSubplot at 0xeb52f88>"
      ]
     },
     "execution_count": 85,
     "metadata": {},
     "output_type": "execute_result"
    },
    {
     "data": {
      "image/png": "[encoded data removed]",
      "text/plain": [
       "<Figure size 432x288 with 1 Axes>"
      ]
     },
     "metadata": {
      "needs_background": "light"
     },
     "output_type": "display_data"
    }
   ],
   "source": [
    "sns.distplot(MLR_model.resid)"
   ]
  },
  {
   "cell_type": "code",
   "execution_count": 86,
   "metadata": {},
   "outputs": [
    {
     "data": {
      "text/plain": [
       "0.8014003968341286"
      ]
     },
     "execution_count": 86,
     "metadata": {},
     "output_type": "execute_result"
    }
   ],
   "source": [
    "MLR_model.resid.skew()"
   ]
  },
  {
   "cell_type": "code",
   "execution_count": 87,
   "metadata": {},
   "outputs": [
    {
     "data": {
      "image/png": "[encoded data removed]",
      "text/plain": [
       "<Figure size 432x288 with 1 Axes>"
      ]
     },
     "execution_count": 87,
     "metadata": {},
     "output_type": "execute_result"
    },
    {
     "data": {
      "image/png": "[encoded data removed]",
      "text/plain": [
       "<Figure size 432x288 with 1 Axes>"
      ]
     },
     "metadata": {
      "needs_background": "light"
     },
     "output_type": "display_data"
    }
   ],
   "source": [
    "qqplot(MLR_model.resid,line='r')"
   ]
  },
  {
   "cell_type": "markdown",
   "metadata": {},
   "source": [
    "Log Transformation"
   ]
  },
  {
   "cell_type": "code",
   "execution_count": 89,
   "metadata": {},
   "outputs": [
    {
     "name": "stdout",
     "output_type": "stream",
     "text": [
      "                            OLS Regression Results                            \n",
      "==============================================================================\n",
      "Dep. Variable:      Rented Bike Count   R-squared:                       0.587\n",
      "Model:                            OLS   Adj. R-squared:                  0.586\n",
      "Method:                 Least Squares   F-statistic:                     1199.\n",
      "Date:                Sat, 05 Sep 2020   Prob (F-statistic):               0.00\n",
      "Time:                        17:44:03   Log-Likelihood:                -4983.0\n",
      "No. Observations:                5071   AIC:                             9980.\n",
      "Df Residuals:                    5064   BIC:                         1.003e+04\n",
      "Df Model:                           6                                         \n",
      "Covariance Type:            nonrobust                                         \n",
      "===========================================================================================\n",
      "                              coef    std err          t      P>|t|      [0.025      0.975]\n",
      "-------------------------------------------------------------------------------------------\n",
      "Seasons                     0.2279      0.010     22.612      0.000       0.208       0.248\n",
      "Holiday_No Holiday          2.6937      0.023    118.447      0.000       2.649       2.738\n",
      "Functioning Day_Yes         2.6937      0.023    118.447      0.000       2.649       2.738\n",
      "Hour                        0.0463      0.001     33.977      0.000       0.044       0.049\n",
      "Temperature(°C)             0.0412      0.001     39.159      0.000       0.039       0.043\n",
      "Humidity(%)                -0.0100      0.001    -16.799      0.000      -0.011      -0.009\n",
      "Wind speed (m/s)           -0.0040      0.011     -0.363      0.717      -0.026       0.018\n",
      "Solar Radiation (MJ/m2)     0.0566      0.017      3.302      0.001       0.023       0.090\n",
      "==============================================================================\n",
      "Omnibus:                      809.320   Durbin-Watson:                   1.985\n",
      "Prob(Omnibus):                  0.000   Jarque-Bera (JB):             2815.032\n",
      "Skew:                          -0.787   Prob(JB):                         0.00\n",
      "Kurtosis:                       6.293   Cond. No.                     4.17e+17\n",
      "==============================================================================\n",
      "\n",
      "Warnings:\n",
      "[1] Standard Errors assume that the covariance matrix of the errors is correctly specified.\n",
      "[2] The smallest eigenvalue is 1.17e-28. This might indicate that there are\n",
      "strong multicollinearity problems or that the design matrix is singular.\n"
     ]
    }
   ],
   "source": [
    "MLR_log_model=l=sm.OLS(np.log(y_train),X_train).fit()\n",
    "print(MLR_log_model.summary())"
   ]
  },
  {
   "cell_type": "code",
   "execution_count": 90,
   "metadata": {},
   "outputs": [
    {
     "data": {
      "text/plain": [
       "<matplotlib.axes._subplots.AxesSubplot at 0xb215688>"
      ]
     },
     "execution_count": 90,
     "metadata": {},
     "output_type": "execute_result"
    },
    {
     "data": {
      "image/png": "[encoded data removed]",
      "text/plain": [
       "<Figure size 432x288 with 1 Axes>"
      ]
     },
     "metadata": {
      "needs_background": "light"
     },
     "output_type": "display_data"
    }
   ],
   "source": [
    "sns.distplot(MLR_log_model.resid)"
   ]
  },
  {
   "cell_type": "code",
   "execution_count": 93,
   "metadata": {},
   "outputs": [
    {
     "data": {
      "text/plain": [
       "-0.7872221499806175"
      ]
     },
     "execution_count": 93,
     "metadata": {},
     "output_type": "execute_result"
    }
   ],
   "source": [
    "MLR_log_model.resid.skew()"
   ]
  },
  {
   "cell_type": "code",
   "execution_count": 94,
   "metadata": {},
   "outputs": [
    {
     "data": {
      "image/png": "[encoded data removed]",
      "text/plain": [
       "<Figure size 432x288 with 1 Axes>"
      ]
     },
     "execution_count": 94,
     "metadata": {},
     "output_type": "execute_result"
    },
    {
     "data": {
      "image/png": "[encoded data removed]",
      "text/plain": [
       "<Figure size 432x288 with 1 Axes>"
      ]
     },
     "metadata": {
      "needs_background": "light"
     },
     "output_type": "display_data"
    }
   ],
   "source": [
    "qqplot(MLR_log_model.resid,line='r')"
   ]
  },
  {
   "cell_type": "markdown",
   "metadata": {},
   "source": [
    "Square root Transformation"
   ]
  },
  {
   "cell_type": "code",
   "execution_count": 95,
   "metadata": {},
   "outputs": [
    {
     "name": "stdout",
     "output_type": "stream",
     "text": [
      "                            OLS Regression Results                            \n",
      "==============================================================================\n",
      "Dep. Variable:      Rented Bike Count   R-squared:                       0.605\n",
      "Model:                            OLS   Adj. R-squared:                  0.605\n",
      "Method:                 Least Squares   F-statistic:                     1295.\n",
      "Date:                Sat, 05 Sep 2020   Prob (F-statistic):               0.00\n",
      "Time:                        17:48:07   Log-Likelihood:                -17005.\n",
      "No. Observations:                5071   AIC:                         3.402e+04\n",
      "Df Residuals:                    5064   BIC:                         3.407e+04\n",
      "Df Model:                           6                                         \n",
      "Covariance Type:            nonrobust                                         \n",
      "===========================================================================================\n",
      "                              coef    std err          t      P>|t|      [0.025      0.975]\n",
      "-------------------------------------------------------------------------------------------\n",
      "Seasons                     2.4003      0.108     22.244      0.000       2.189       2.612\n",
      "Holiday_No Holiday          7.5706      0.243     31.098      0.000       7.093       8.048\n",
      "Functioning Day_Yes         7.5706      0.243     31.098      0.000       7.093       8.048\n",
      "Hour                        0.5529      0.015     37.874      0.000       0.524       0.582\n",
      "Temperature(°C)             0.4652      0.011     41.296      0.000       0.443       0.487\n",
      "Humidity(%)                -0.1066      0.006    -16.764      0.000      -0.119      -0.094\n",
      "Wind speed (m/s)            0.1898      0.119      1.599      0.110      -0.043       0.422\n",
      "Solar Radiation (MJ/m2)     0.0187      0.184      0.102      0.919      -0.341       0.379\n",
      "==============================================================================\n",
      "Omnibus:                      115.910   Durbin-Watson:                   1.980\n",
      "Prob(Omnibus):                  0.000   Jarque-Bera (JB):              146.222\n",
      "Skew:                           0.295   Prob(JB):                     1.77e-32\n",
      "Kurtosis:                       3.587   Cond. No.                     4.17e+17\n",
      "==============================================================================\n",
      "\n",
      "Warnings:\n",
      "[1] Standard Errors assume that the covariance matrix of the errors is correctly specified.\n",
      "[2] The smallest eigenvalue is 1.17e-28. This might indicate that there are\n",
      "strong multicollinearity problems or that the design matrix is singular.\n"
     ]
    }
   ],
   "source": [
    "MLR_sq_model=sm.OLS(np.sqrt(y_train),X_train).fit()\n",
    "print(MLR_sq_model.summary())"
   ]
  },
  {
   "cell_type": "code",
   "execution_count": 96,
   "metadata": {},
   "outputs": [
    {
     "data": {
      "text/plain": [
       "<matplotlib.axes._subplots.AxesSubplot at 0xd4e5848>"
      ]
     },
     "execution_count": 96,
     "metadata": {},
     "output_type": "execute_result"
    },
    {
     "data": {
      "image/png": "[encoded data removed]",
      "text/plain": [
       "<Figure size 432x288 with 1 Axes>"
      ]
     },
     "metadata": {
      "needs_background": "light"
     },
     "output_type": "display_data"
    }
   ],
   "source": [
    "sns.distplot(MLR_sq_model.resid)"
   ]
  },
  {
   "cell_type": "code",
   "execution_count": 97,
   "metadata": {},
   "outputs": [
    {
     "data": {
      "text/plain": [
       "0.29467795274858194"
      ]
     },
     "execution_count": 97,
     "metadata": {},
     "output_type": "execute_result"
    }
   ],
   "source": [
    "MLR_sq_model.resid.skew()"
   ]
  },
  {
   "cell_type": "code",
   "execution_count": 99,
   "metadata": {
    "scrolled": true
   },
   "outputs": [
    {
     "data": {
      "image/png": "[encoded data removed]",
      "text/plain": [
       "<Figure size 432x288 with 1 Axes>"
      ]
     },
     "execution_count": 99,
     "metadata": {},
     "output_type": "execute_result"
    },
    {
     "data": {
      "image/png": "[encoded data removed]",
      "text/plain": [
       "<Figure size 432x288 with 1 Axes>"
      ]
     },
     "metadata": {
      "needs_background": "light"
     },
     "output_type": "display_data"
    }
   ],
   "source": [
    "qqplot(MLR_sq_model.resid,line='r')"
   ]
  },
  {
   "cell_type": "markdown",
   "metadata": {},
   "source": [
    "Resciprocal Transformation"
   ]
  },
  {
   "cell_type": "code",
   "execution_count": 101,
   "metadata": {},
   "outputs": [
    {
     "name": "stdout",
     "output_type": "stream",
     "text": [
      "                            OLS Regression Results                            \n",
      "==============================================================================\n",
      "Dep. Variable:      Rented Bike Count   R-squared:                       0.153\n",
      "Model:                            OLS   Adj. R-squared:                  0.152\n",
      "Method:                 Least Squares   F-statistic:                     152.9\n",
      "Date:                Sat, 05 Sep 2020   Prob (F-statistic):          6.58e-179\n",
      "Time:                        17:50:21   Log-Likelihood:                 17858.\n",
      "No. Observations:                5071   AIC:                        -3.570e+04\n",
      "Df Residuals:                    5064   BIC:                        -3.566e+04\n",
      "Df Model:                           6                                         \n",
      "Covariance Type:            nonrobust                                         \n",
      "===========================================================================================\n",
      "                              coef    std err          t      P>|t|      [0.025      0.975]\n",
      "-------------------------------------------------------------------------------------------\n",
      "Seasons                    -0.0009      0.000     -7.770      0.000      -0.001      -0.001\n",
      "Holiday_No Holiday          0.0018      0.000      6.994      0.000       0.001       0.002\n",
      "Functioning Day_Yes         0.0018      0.000      6.994      0.000       0.001       0.002\n",
      "Hour                       -0.0001   1.51e-05     -8.603      0.000      -0.000      -0.000\n",
      "Temperature(°C)            -0.0002   1.16e-05    -14.839      0.000      -0.000      -0.000\n",
      "Humidity(%)              7.784e-05   6.57e-06     11.846      0.000     6.5e-05    9.07e-05\n",
      "Wind speed (m/s)            0.0005      0.000      3.928      0.000       0.000       0.001\n",
      "Solar Radiation (MJ/m2)    -0.0003      0.000     -1.442      0.149      -0.001    9.83e-05\n",
      "==============================================================================\n",
      "Omnibus:                     9505.402   Durbin-Watson:                   2.021\n",
      "Prob(Omnibus):                  0.000   Jarque-Bera (JB):         23558411.930\n",
      "Skew:                          13.957   Prob(JB):                         0.00\n",
      "Kurtosis:                     335.743   Cond. No.                     4.17e+17\n",
      "==============================================================================\n",
      "\n",
      "Warnings:\n",
      "[1] Standard Errors assume that the covariance matrix of the errors is correctly specified.\n",
      "[2] The smallest eigenvalue is 1.17e-28. This might indicate that there are\n",
      "strong multicollinearity problems or that the design matrix is singular.\n"
     ]
    }
   ],
   "source": [
    "MLR_re_model=sm.OLS((1/y_train),X_train).fit()\n",
    "print(MLR_re_model.summary())"
   ]
  },
  {
   "cell_type": "code",
   "execution_count": 102,
   "metadata": {},
   "outputs": [
    {
     "data": {
      "text/plain": [
       "<matplotlib.axes._subplots.AxesSubplot at 0xdee6fc8>"
      ]
     },
     "execution_count": 102,
     "metadata": {},
     "output_type": "execute_result"
    },
    {
     "data": {
      "image/png": "[encoded data removed]",
      "text/plain": [
       "<Figure size 432x288 with 1 Axes>"
      ]
     },
     "metadata": {
      "needs_background": "light"
     },
     "output_type": "display_data"
    }
   ],
   "source": [
    "sns.distplot(MLR_re_model.resid)"
   ]
  },
  {
   "cell_type": "code",
   "execution_count": 103,
   "metadata": {},
   "outputs": [
    {
     "data": {
      "text/plain": [
       "13.961379290007457"
      ]
     },
     "execution_count": 103,
     "metadata": {},
     "output_type": "execute_result"
    }
   ],
   "source": [
    "MLR_re_model.resid.skew()"
   ]
  },
  {
   "cell_type": "markdown",
   "metadata": {},
   "source": [
    "BoxCox"
   ]
  },
  {
   "cell_type": "code",
   "execution_count": 107,
   "metadata": {
    "scrolled": false
   },
   "outputs": [
    {
     "name": "stdout",
     "output_type": "stream",
     "text": [
      "                            OLS Regression Results                            \n",
      "==============================================================================\n",
      "Dep. Variable:                      y   R-squared:                       0.612\n",
      "Model:                            OLS   Adj. R-squared:                  0.611\n",
      "Method:                 Least Squares   F-statistic:                     1329.\n",
      "Date:                Sat, 05 Sep 2020   Prob (F-statistic):               0.00\n",
      "Time:                        17:53:17   Log-Likelihood:                -13083.\n",
      "No. Observations:                5071   AIC:                         2.618e+04\n",
      "Df Residuals:                    5064   BIC:                         2.623e+04\n",
      "Df Model:                           6                                         \n",
      "Covariance Type:            nonrobust                                         \n",
      "===========================================================================================\n",
      "                              coef    std err          t      P>|t|      [0.025      0.975]\n",
      "-------------------------------------------------------------------------------------------\n",
      "Seasons                     1.1566      0.050     23.229      0.000       1.059       1.254\n",
      "Holiday_No Holiday          6.1103      0.112     54.395      0.000       5.890       6.331\n",
      "Functioning Day_Yes         6.1103      0.112     54.395      0.000       5.890       6.331\n",
      "Hour                        0.2510      0.007     37.261      0.000       0.238       0.264\n",
      "Temperature(°C)             0.2153      0.005     41.424      0.000       0.205       0.226\n",
      "Humidity(%)                -0.0499      0.003    -16.998      0.000      -0.056      -0.044\n",
      "Wind speed (m/s)            0.0442      0.055      0.807      0.420      -0.063       0.152\n",
      "Solar Radiation (MJ/m2)     0.1537      0.085      1.814      0.070      -0.012       0.320\n",
      "==============================================================================\n",
      "Omnibus:                       90.770   Durbin-Watson:                   1.979\n",
      "Prob(Omnibus):                  0.000   Jarque-Bera (JB):              179.903\n",
      "Skew:                          -0.057   Prob(JB):                     8.60e-40\n",
      "Kurtosis:                       3.916   Cond. No.                     4.17e+17\n",
      "==============================================================================\n",
      "\n",
      "Warnings:\n",
      "[1] Standard Errors assume that the covariance matrix of the errors is correctly specified.\n",
      "[2] The smallest eigenvalue is 1.17e-28. This might indicate that there are\n",
      "strong multicollinearity problems or that the design matrix is singular.\n"
     ]
    }
   ],
   "source": [
    "MLR_bc_model=sm.OLS(op,X_train).fit()\n",
    "print(MLR_bc_model.summary())"
   ]
  },
  {
   "cell_type": "code",
   "execution_count": 108,
   "metadata": {},
   "outputs": [
    {
     "data": {
      "text/plain": [
       "<matplotlib.axes._subplots.AxesSubplot at 0xe23ebc8>"
      ]
     },
     "execution_count": 108,
     "metadata": {},
     "output_type": "execute_result"
    },
    {
     "data": {
      "image/png": "[encoded data removed]",
      "text/plain": [
       "<Figure size 432x288 with 1 Axes>"
      ]
     },
     "metadata": {
      "needs_background": "light"
     },
     "output_type": "display_data"
    }
   ],
   "source": [
    "sns.distplot(MLR_bc_model.resid)"
   ]
  },
  {
   "cell_type": "code",
   "execution_count": 109,
   "metadata": {},
   "outputs": [
    {
     "data": {
      "text/plain": [
       "-0.056872262272223376"
      ]
     },
     "execution_count": 109,
     "metadata": {},
     "output_type": "execute_result"
    }
   ],
   "source": [
    "MLR_bc_model.resid.skew()"
   ]
  },
  {
   "cell_type": "code",
   "execution_count": 110,
   "metadata": {},
   "outputs": [
    {
     "data": {
      "image/png": "[encoded data removed]",
      "text/plain": [
       "<Figure size 432x288 with 1 Axes>"
      ]
     },
     "execution_count": 110,
     "metadata": {},
     "output_type": "execute_result"
    },
    {
     "data": {
      "image/png": "[encoded data removed]",
      "text/plain": [
       "<Figure size 432x288 with 1 Axes>"
      ]
     },
     "metadata": {
      "needs_background": "light"
     },
     "output_type": "display_data"
    }
   ],
   "source": [
    "qqplot(MLR_bc_model.resid,line='r')"
   ]
  },
  {
   "cell_type": "code",
   "execution_count": null,
   "metadata": {},
   "outputs": [],
   "source": []
  },
  {
   "cell_type": "code",
   "execution_count": null,
   "metadata": {},
   "outputs": [],
   "source": []
  },
  {
   "cell_type": "code",
   "execution_count": null,
   "metadata": {},
   "outputs": [],
   "source": []
  },
  {
   "cell_type": "code",
   "execution_count": null,
   "metadata": {},
   "outputs": [],
   "source": []
  },
  {
   "cell_type": "code",
   "execution_count": null,
   "metadata": {},
   "outputs": [],
   "source": []
  },
  {
   "cell_type": "code",
   "execution_count": null,
   "metadata": {},
   "outputs": [],
   "source": []
  },
  {
   "cell_type": "code",
   "execution_count": null,
   "metadata": {},
   "outputs": [],
   "source": []
  },
  {
   "cell_type": "code",
   "execution_count": null,
   "metadata": {},
   "outputs": [],
   "source": []
  },
  {
   "cell_type": "code",
   "execution_count": null,
   "metadata": {},
   "outputs": [],
   "source": []
  },
  {
   "cell_type": "code",
   "execution_count": null,
   "metadata": {},
   "outputs": [],
   "source": []
  },
  {
   "cell_type": "code",
   "execution_count": null,
   "metadata": {},
   "outputs": [],
   "source": []
  },
  {
   "cell_type": "code",
   "execution_count": null,
   "metadata": {},
   "outputs": [],
   "source": []
  },
  {
   "cell_type": "code",
   "execution_count": null,
   "metadata": {},
   "outputs": [],
   "source": []
  },
  {
   "cell_type": "code",
   "execution_count": null,
   "metadata": {},
   "outputs": [],
   "source": []
  },
  {
   "cell_type": "code",
   "execution_count": null,
   "metadata": {},
   "outputs": [],
   "source": []
  },
  {
   "cell_type": "code",
   "execution_count": null,
   "metadata": {},
   "outputs": [],
   "source": []
  }
 ],
 "metadata": {
  "colab": {
   "collapsed_sections": [],
   "name": "Seoul_Bike_Sharing.ipynb",
   "provenance": []
  },
  "kernelspec": {
   "display_name": "Python 3",
   "language": "python",
   "name": "python3"
  },
  "language_info": {
   "codemirror_mode": {
    "name": "ipython",
    "version": 3
   },
   "file_extension": ".py",
   "mimetype": "text/x-python",
   "name": "python",
   "nbconvert_exporter": "python",
   "pygments_lexer": "ipython3",
   "version": "3.8.5"
  }
 },
 "nbformat": 4,
 "nbformat_minor": 1
}
